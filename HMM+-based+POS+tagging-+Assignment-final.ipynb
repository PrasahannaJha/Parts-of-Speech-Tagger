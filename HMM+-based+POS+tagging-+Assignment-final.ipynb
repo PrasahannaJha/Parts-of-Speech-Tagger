{
 "cells": [
  {
   "cell_type": "markdown",
   "metadata": {},
   "source": [
    "## POS tagging using modified Viterbi"
   ]
  },
  {
   "cell_type": "markdown",
   "metadata": {},
   "source": [
    "### Data Preparation"
   ]
  },
  {
   "cell_type": "code",
   "execution_count": 165,
   "metadata": {},
   "outputs": [],
   "source": [
    "# importing libraries\n",
    "import nltk, re, pprint\n",
    "import numpy as np\n",
    "import pandas as pd\n",
    "import requests\n",
    "import matplotlib.pyplot as plt\n",
    "import seaborn as sns\n",
    "import pprint, time\n",
    "import random\n",
    "from sklearn.model_selection import train_test_split\n",
    "from nltk.tokenize import word_tokenize"
   ]
  },
  {
   "cell_type": "code",
   "execution_count": 166,
   "metadata": {},
   "outputs": [
    {
     "name": "stderr",
     "output_type": "stream",
     "text": [
      "[nltk_data] Downloading package universal_tagset to\n",
      "[nltk_data]     C:\\Users\\prash\\AppData\\Roaming\\nltk_data...\n",
      "[nltk_data]   Package universal_tagset is already up-to-date!\n"
     ]
    },
    {
     "data": {
      "text/plain": [
       "True"
      ]
     },
     "execution_count": 166,
     "metadata": {},
     "output_type": "execute_result"
    }
   ],
   "source": [
    "# downloading universal tagset\n",
    "nltk.download('universal_tagset')"
   ]
  },
  {
   "cell_type": "code",
   "execution_count": 167,
   "metadata": {},
   "outputs": [],
   "source": [
    "# reading the Treebank tagged sentences\n",
    "nltk_data = list(nltk.corpus.treebank.tagged_sents(tagset='universal'))"
   ]
  },
  {
   "cell_type": "code",
   "execution_count": 168,
   "metadata": {},
   "outputs": [
    {
     "name": "stdout",
     "output_type": "stream",
     "text": [
      "[[('Pierre', 'NOUN'), ('Vinken', 'NOUN'), (',', '.'), ('61', 'NUM'), ('years', 'NOUN'), ('old', 'ADJ'), (',', '.'), ('will', 'VERB'), ('join', 'VERB'), ('the', 'DET'), ('board', 'NOUN'), ('as', 'ADP'), ('a', 'DET'), ('nonexecutive', 'ADJ'), ('director', 'NOUN'), ('Nov.', 'NOUN'), ('29', 'NUM'), ('.', '.')], [('Mr.', 'NOUN'), ('Vinken', 'NOUN'), ('is', 'VERB'), ('chairman', 'NOUN'), ('of', 'ADP'), ('Elsevier', 'NOUN'), ('N.V.', 'NOUN'), (',', '.'), ('the', 'DET'), ('Dutch', 'NOUN'), ('publishing', 'VERB'), ('group', 'NOUN'), ('.', '.')], [('Rudolph', 'NOUN'), ('Agnew', 'NOUN'), (',', '.'), ('55', 'NUM'), ('years', 'NOUN'), ('old', 'ADJ'), ('and', 'CONJ'), ('former', 'ADJ'), ('chairman', 'NOUN'), ('of', 'ADP'), ('Consolidated', 'NOUN'), ('Gold', 'NOUN'), ('Fields', 'NOUN'), ('PLC', 'NOUN'), (',', '.'), ('was', 'VERB'), ('named', 'VERB'), ('*-1', 'X'), ('a', 'DET'), ('nonexecutive', 'ADJ'), ('director', 'NOUN'), ('of', 'ADP'), ('this', 'DET'), ('British', 'ADJ'), ('industrial', 'ADJ'), ('conglomerate', 'NOUN'), ('.', '.')]]\n"
     ]
    }
   ],
   "source": [
    "# reading first three tagged sentences\n",
    "print(nltk_data[:3])"
   ]
  },
  {
   "cell_type": "code",
   "execution_count": 169,
   "metadata": {},
   "outputs": [
    {
     "name": "stdout",
     "output_type": "stream",
     "text": [
      "3718\n",
      "196\n",
      "[[('The', 'DET'), ('Treasury', 'NOUN'), ('plans', 'VERB'), ('*-1', 'X'), ('to', 'PRT'), ('sell', 'VERB'), ('$', '.'), ('30', 'NUM'), ('billion', 'NUM'), ('*U*', 'X'), ('in', 'ADP'), ('notes', 'NOUN'), ('and', 'CONJ'), ('bonds', 'NOUN'), ('next', 'ADP'), ('week', 'NOUN'), ('but', 'CONJ'), ('will', 'VERB'), ('delay', 'VERB'), ('the', 'DET'), ('auction', 'NOUN'), ('unless', 'ADP'), ('Congress', 'NOUN'), ('quickly', 'ADV'), ('raises', 'VERB'), ('the', 'DET'), ('debt', 'NOUN'), ('ceiling', 'NOUN'), ('.', '.')], [('Dan', 'NOUN'), ('E.', 'NOUN'), ('Nelms', 'NOUN'), (',', '.'), ('Valley', 'NOUN'), ('Federal', 'NOUN'), (\"'s\", 'PRT'), ('president', 'NOUN'), ('and', 'CONJ'), ('chief', 'ADJ'), ('executive', 'NOUN'), ('officer', 'NOUN'), (',', '.'), ('said', 'VERB'), ('0', 'X'), ('the', 'DET'), ('one-time', 'ADJ'), ('charge', 'NOUN'), ('substantially', 'ADV'), ('eliminates', 'VERB'), ('future', 'ADJ'), ('losses', 'NOUN'), ('associated', 'VERB'), ('*', 'X'), ('with', 'ADP'), ('the', 'DET'), ('unit', 'NOUN'), ('.', '.')]]\n"
     ]
    }
   ],
   "source": [
    "# Splitting into train and validation set - 95% train and 5% validation\n",
    "random.seed(1234)\n",
    "train_set, validation_set = train_test_split(nltk_data,test_size=0.05)\n",
    "\n",
    "print(len(train_set))\n",
    "print(len(validation_set))\n",
    "print(train_set[:2])"
   ]
  },
  {
   "cell_type": "code",
   "execution_count": 170,
   "metadata": {},
   "outputs": [
    {
     "data": {
      "text/plain": [
       "[('The', 'DET'),\n",
       " ('Treasury', 'NOUN'),\n",
       " ('plans', 'VERB'),\n",
       " ('*-1', 'X'),\n",
       " ('to', 'PRT'),\n",
       " ('sell', 'VERB'),\n",
       " ('$', '.'),\n",
       " ('30', 'NUM'),\n",
       " ('billion', 'NUM'),\n",
       " ('*U*', 'X')]"
      ]
     },
     "execution_count": 170,
     "metadata": {},
     "output_type": "execute_result"
    }
   ],
   "source": [
    "# Getting list of tagged words\n",
    "train_tagged_words = [tup for sent in train_set for tup in sent]\n",
    "train_tagged_words[:10]"
   ]
  },
  {
   "cell_type": "code",
   "execution_count": 171,
   "metadata": {},
   "outputs": [
    {
     "data": {
      "text/plain": [
       "['The', 'Treasury', 'plans', '*-1', 'to', 'sell', '$', '30', 'billion', '*U*']"
      ]
     },
     "execution_count": 171,
     "metadata": {},
     "output_type": "execute_result"
    }
   ],
   "source": [
    "# identify tokens in the train list \n",
    "tokens = [pair[0] for pair in train_tagged_words]\n",
    "tokens[:10]"
   ]
  },
  {
   "cell_type": "code",
   "execution_count": 172,
   "metadata": {},
   "outputs": [
    {
     "name": "stdout",
     "output_type": "stream",
     "text": [
      "12052\n"
     ]
    }
   ],
   "source": [
    "# vocabulary in the train list\n",
    "V = set(tokens)\n",
    "print(len(V))"
   ]
  },
  {
   "cell_type": "code",
   "execution_count": 173,
   "metadata": {},
   "outputs": [
    {
     "data": {
      "text/plain": [
       "12"
      ]
     },
     "execution_count": 173,
     "metadata": {},
     "output_type": "execute_result"
    }
   ],
   "source": [
    "# number of tags in the train list\n",
    "T = set([pair[1] for pair in train_tagged_words])\n",
    "len(T)"
   ]
  },
  {
   "cell_type": "code",
   "execution_count": 174,
   "metadata": {},
   "outputs": [
    {
     "name": "stdout",
     "output_type": "stream",
     "text": [
      "{'ADV', 'ADP', 'NUM', 'DET', 'X', '.', 'CONJ', 'NOUN', 'ADJ', 'PRON', 'PRT', 'VERB'}\n"
     ]
    }
   ],
   "source": [
    "# Printing tags\n",
    "print(T)"
   ]
  },
  {
   "attachments": {
    "image.png": {
     "image/png": "[encoded data removed]"
    }
   },
   "cell_type": "markdown",
   "metadata": {},
   "source": [
    "##### NLTK universal tagset from NLTK website\n",
    "\n",
    "![image.png](attachment:image.png)"
   ]
  },
  {
   "cell_type": "markdown",
   "metadata": {},
   "source": [
    "### Build the vanilla Viterbi based POS tagger"
   ]
  },
  {
   "cell_type": "code",
   "execution_count": 175,
   "metadata": {},
   "outputs": [],
   "source": [
    "# compute tag given tag: tag2(t2) given tag1 (t1), i.e. Transition Probability\n",
    "\n",
    "def t2_given_t1(t2, t1, train_bag = train_tagged_words):\n",
    "    tags = [pair[1] for pair in train_bag]\n",
    "    count_t1 = len([t for t in tags if t==t1])\n",
    "    count_t2_t1 = 0\n",
    "    for index in range(len(tags)-1):\n",
    "        if tags[index]==t1 and tags[index+1] == t2:\n",
    "            count_t2_t1 += 1\n",
    "    return (count_t2_t1, count_t1)"
   ]
  },
  {
   "cell_type": "code",
   "execution_count": 176,
   "metadata": {},
   "outputs": [],
   "source": [
    "# creating t x t transition matrix of tags\n",
    "# each column is t2, each row is t1\n",
    "# thus M(i, j) represents P(tj given ti)\n",
    "\n",
    "tags_matrix = np.zeros((len(T), len(T)), dtype='float32')\n",
    "for i, t1 in enumerate(list(T)):\n",
    "    for j, t2 in enumerate(list(T)): \n",
    "        tags_matrix[i, j] = t2_given_t1(t2, t1)[0]/t2_given_t1(t2, t1)[1]"
   ]
  },
  {
   "cell_type": "code",
   "execution_count": 177,
   "metadata": {},
   "outputs": [
    {
     "data": {
      "text/plain": [
       "array([[8.06559548e-02, 1.18139222e-01, 3.11244987e-02, 6.79384172e-02,\n",
       "        2.37617139e-02, 1.35207504e-01, 7.02811265e-03, 3.14591713e-02,\n",
       "        1.29852742e-01, 1.50602413e-02, 1.47255687e-02, 3.45046848e-01],\n",
       "       [1.33304661e-02, 1.67705864e-02, 6.27821982e-02, 3.25198889e-01,\n",
       "        3.42937000e-02, 3.98838967e-02, 9.67533852e-04, 3.21866274e-01,\n",
       "        1.05998710e-01, 6.92324266e-02, 1.39754894e-03, 8.27778969e-03],\n",
       "       [2.97796307e-03, 3.48421670e-02, 1.85229301e-01, 3.27575929e-03,\n",
       "        2.09053010e-01, 1.20011911e-01, 1.39964260e-02, 3.50804061e-01,\n",
       "        3.27575952e-02, 1.19118521e-03, 2.79928520e-02, 1.78677794e-02],\n",
       "       [1.23411976e-02, 9.31639411e-03, 2.23835446e-02, 5.44464588e-03,\n",
       "        4.53720503e-02, 1.76648516e-02, 4.83968528e-04, 6.36539638e-01,\n",
       "        2.06170604e-01, 3.75075615e-03, 2.41984264e-04, 4.02903818e-02],\n",
       "       [2.59282961e-02, 1.43565938e-01, 2.72087078e-03, 5.58578745e-02,\n",
       "        7.60243312e-02, 1.64532647e-01, 1.02432780e-02, 6.12996146e-02,\n",
       "        1.71254799e-02, 5.58578745e-02, 1.84699103e-01, 2.02144682e-01],\n",
       "       [5.19714877e-02, 9.21230689e-02, 8.01227093e-02, 1.74321026e-01,\n",
       "        2.70684827e-02, 9.39276367e-02, 5.81972376e-02, 2.21420199e-01,\n",
       "        4.36704867e-02, 6.56861886e-02, 2.43616360e-03, 8.89650807e-02],\n",
       "       [5.31468540e-02, 5.36130518e-02, 4.10256423e-02, 1.20279722e-01,\n",
       "        8.39160848e-03, 3.63636352e-02, 4.66200465e-04, 3.49650353e-01,\n",
       "        1.16083913e-01, 5.78088574e-02, 5.12820529e-03, 1.58041954e-01],\n",
       "       [1.68165956e-02, 1.76684409e-01, 9.54653975e-03, 1.30346976e-02,\n",
       "        2.89333574e-02, 2.40095466e-01, 4.26656865e-02, 2.63264179e-01,\n",
       "        1.21167619e-02, 4.69983462e-03, 4.40609492e-02, 1.48081511e-01],\n",
       "       [4.30321088e-03, 7.77888149e-02, 2.10195296e-02, 4.63422714e-03,\n",
       "        2.03574970e-02, 6.45481646e-02, 1.65508110e-02, 7.01257885e-01,\n",
       "        6.66997656e-02, 6.62032457e-04, 1.12545518e-02, 1.09235356e-02],\n",
       "       [3.44027840e-02, 2.35794354e-02, 7.34441448e-03, 9.66370292e-03,\n",
       "        8.92926157e-02, 4.05875519e-02, 5.41167380e-03, 2.07576349e-01,\n",
       "        7.49903396e-02, 8.11751094e-03, 1.12098958e-02, 4.87823725e-01],\n",
       "       [1.01672681e-02, 1.86946541e-02, 5.77238426e-02, 1.02984585e-01,\n",
       "        1.41029842e-02, 4.29649055e-02, 1.96785829e-03, 2.46638238e-01,\n",
       "        8.49458873e-02, 1.80387013e-02, 1.96785829e-03, 3.99803221e-01],\n",
       "       [8.21459144e-02, 9.07887593e-02, 2.32811645e-02, 1.33847237e-01,\n",
       "        2.18251184e-01, 3.48049514e-02, 5.60616655e-03, 1.10955387e-01,\n",
       "        6.44709170e-02, 3.53499949e-02, 3.12232338e-02, 1.69275090e-01]],\n",
       "      dtype=float32)"
      ]
     },
     "execution_count": 177,
     "metadata": {},
     "output_type": "execute_result"
    }
   ],
   "source": [
    "tags_matrix"
   ]
  },
  {
   "cell_type": "code",
   "execution_count": 178,
   "metadata": {},
   "outputs": [],
   "source": [
    "# convert the matrix to a df for better readability\n",
    "tags_df = pd.DataFrame(tags_matrix, columns = list(T), index=list(T))"
   ]
  },
  {
   "cell_type": "code",
   "execution_count": 179,
   "metadata": {},
   "outputs": [
    {
     "data": {
      "text/html": [
       "<div>\n",
       "<style scoped>\n",
       "    .dataframe tbody tr th:only-of-type {\n",
       "        vertical-align: middle;\n",
       "    }\n",
       "\n",
       "    .dataframe tbody tr th {\n",
       "        vertical-align: top;\n",
       "    }\n",
       "\n",
       "    .dataframe thead th {\n",
       "        text-align: right;\n",
       "    }\n",
       "</style>\n",
       "<table border=\"1\" class=\"dataframe\">\n",
       "  <thead>\n",
       "    <tr style=\"text-align: right;\">\n",
       "      <th></th>\n",
       "      <th>ADV</th>\n",
       "      <th>ADP</th>\n",
       "      <th>NUM</th>\n",
       "      <th>DET</th>\n",
       "      <th>X</th>\n",
       "      <th>.</th>\n",
       "      <th>CONJ</th>\n",
       "      <th>NOUN</th>\n",
       "      <th>ADJ</th>\n",
       "      <th>PRON</th>\n",
       "      <th>PRT</th>\n",
       "      <th>VERB</th>\n",
       "    </tr>\n",
       "  </thead>\n",
       "  <tbody>\n",
       "    <tr>\n",
       "      <th>ADV</th>\n",
       "      <td>0.080656</td>\n",
       "      <td>0.118139</td>\n",
       "      <td>0.031124</td>\n",
       "      <td>0.067938</td>\n",
       "      <td>0.023762</td>\n",
       "      <td>0.135208</td>\n",
       "      <td>0.007028</td>\n",
       "      <td>0.031459</td>\n",
       "      <td>0.129853</td>\n",
       "      <td>0.015060</td>\n",
       "      <td>0.014726</td>\n",
       "      <td>0.345047</td>\n",
       "    </tr>\n",
       "    <tr>\n",
       "      <th>ADP</th>\n",
       "      <td>0.013330</td>\n",
       "      <td>0.016771</td>\n",
       "      <td>0.062782</td>\n",
       "      <td>0.325199</td>\n",
       "      <td>0.034294</td>\n",
       "      <td>0.039884</td>\n",
       "      <td>0.000968</td>\n",
       "      <td>0.321866</td>\n",
       "      <td>0.105999</td>\n",
       "      <td>0.069232</td>\n",
       "      <td>0.001398</td>\n",
       "      <td>0.008278</td>\n",
       "    </tr>\n",
       "    <tr>\n",
       "      <th>NUM</th>\n",
       "      <td>0.002978</td>\n",
       "      <td>0.034842</td>\n",
       "      <td>0.185229</td>\n",
       "      <td>0.003276</td>\n",
       "      <td>0.209053</td>\n",
       "      <td>0.120012</td>\n",
       "      <td>0.013996</td>\n",
       "      <td>0.350804</td>\n",
       "      <td>0.032758</td>\n",
       "      <td>0.001191</td>\n",
       "      <td>0.027993</td>\n",
       "      <td>0.017868</td>\n",
       "    </tr>\n",
       "    <tr>\n",
       "      <th>DET</th>\n",
       "      <td>0.012341</td>\n",
       "      <td>0.009316</td>\n",
       "      <td>0.022384</td>\n",
       "      <td>0.005445</td>\n",
       "      <td>0.045372</td>\n",
       "      <td>0.017665</td>\n",
       "      <td>0.000484</td>\n",
       "      <td>0.636540</td>\n",
       "      <td>0.206171</td>\n",
       "      <td>0.003751</td>\n",
       "      <td>0.000242</td>\n",
       "      <td>0.040290</td>\n",
       "    </tr>\n",
       "    <tr>\n",
       "      <th>X</th>\n",
       "      <td>0.025928</td>\n",
       "      <td>0.143566</td>\n",
       "      <td>0.002721</td>\n",
       "      <td>0.055858</td>\n",
       "      <td>0.076024</td>\n",
       "      <td>0.164533</td>\n",
       "      <td>0.010243</td>\n",
       "      <td>0.061300</td>\n",
       "      <td>0.017125</td>\n",
       "      <td>0.055858</td>\n",
       "      <td>0.184699</td>\n",
       "      <td>0.202145</td>\n",
       "    </tr>\n",
       "    <tr>\n",
       "      <th>.</th>\n",
       "      <td>0.051971</td>\n",
       "      <td>0.092123</td>\n",
       "      <td>0.080123</td>\n",
       "      <td>0.174321</td>\n",
       "      <td>0.027068</td>\n",
       "      <td>0.093928</td>\n",
       "      <td>0.058197</td>\n",
       "      <td>0.221420</td>\n",
       "      <td>0.043670</td>\n",
       "      <td>0.065686</td>\n",
       "      <td>0.002436</td>\n",
       "      <td>0.088965</td>\n",
       "    </tr>\n",
       "    <tr>\n",
       "      <th>CONJ</th>\n",
       "      <td>0.053147</td>\n",
       "      <td>0.053613</td>\n",
       "      <td>0.041026</td>\n",
       "      <td>0.120280</td>\n",
       "      <td>0.008392</td>\n",
       "      <td>0.036364</td>\n",
       "      <td>0.000466</td>\n",
       "      <td>0.349650</td>\n",
       "      <td>0.116084</td>\n",
       "      <td>0.057809</td>\n",
       "      <td>0.005128</td>\n",
       "      <td>0.158042</td>\n",
       "    </tr>\n",
       "    <tr>\n",
       "      <th>NOUN</th>\n",
       "      <td>0.016817</td>\n",
       "      <td>0.176684</td>\n",
       "      <td>0.009547</td>\n",
       "      <td>0.013035</td>\n",
       "      <td>0.028933</td>\n",
       "      <td>0.240095</td>\n",
       "      <td>0.042666</td>\n",
       "      <td>0.263264</td>\n",
       "      <td>0.012117</td>\n",
       "      <td>0.004700</td>\n",
       "      <td>0.044061</td>\n",
       "      <td>0.148082</td>\n",
       "    </tr>\n",
       "    <tr>\n",
       "      <th>ADJ</th>\n",
       "      <td>0.004303</td>\n",
       "      <td>0.077789</td>\n",
       "      <td>0.021020</td>\n",
       "      <td>0.004634</td>\n",
       "      <td>0.020357</td>\n",
       "      <td>0.064548</td>\n",
       "      <td>0.016551</td>\n",
       "      <td>0.701258</td>\n",
       "      <td>0.066700</td>\n",
       "      <td>0.000662</td>\n",
       "      <td>0.011255</td>\n",
       "      <td>0.010924</td>\n",
       "    </tr>\n",
       "    <tr>\n",
       "      <th>PRON</th>\n",
       "      <td>0.034403</td>\n",
       "      <td>0.023579</td>\n",
       "      <td>0.007344</td>\n",
       "      <td>0.009664</td>\n",
       "      <td>0.089293</td>\n",
       "      <td>0.040588</td>\n",
       "      <td>0.005412</td>\n",
       "      <td>0.207576</td>\n",
       "      <td>0.074990</td>\n",
       "      <td>0.008118</td>\n",
       "      <td>0.011210</td>\n",
       "      <td>0.487824</td>\n",
       "    </tr>\n",
       "    <tr>\n",
       "      <th>PRT</th>\n",
       "      <td>0.010167</td>\n",
       "      <td>0.018695</td>\n",
       "      <td>0.057724</td>\n",
       "      <td>0.102985</td>\n",
       "      <td>0.014103</td>\n",
       "      <td>0.042965</td>\n",
       "      <td>0.001968</td>\n",
       "      <td>0.246638</td>\n",
       "      <td>0.084946</td>\n",
       "      <td>0.018039</td>\n",
       "      <td>0.001968</td>\n",
       "      <td>0.399803</td>\n",
       "    </tr>\n",
       "    <tr>\n",
       "      <th>VERB</th>\n",
       "      <td>0.082146</td>\n",
       "      <td>0.090789</td>\n",
       "      <td>0.023281</td>\n",
       "      <td>0.133847</td>\n",
       "      <td>0.218251</td>\n",
       "      <td>0.034805</td>\n",
       "      <td>0.005606</td>\n",
       "      <td>0.110955</td>\n",
       "      <td>0.064471</td>\n",
       "      <td>0.035350</td>\n",
       "      <td>0.031223</td>\n",
       "      <td>0.169275</td>\n",
       "    </tr>\n",
       "  </tbody>\n",
       "</table>\n",
       "</div>"
      ],
      "text/plain": [
       "           ADV       ADP       NUM       DET         X         .      CONJ  \\\n",
       "ADV   0.080656  0.118139  0.031124  0.067938  0.023762  0.135208  0.007028   \n",
       "ADP   0.013330  0.016771  0.062782  0.325199  0.034294  0.039884  0.000968   \n",
       "NUM   0.002978  0.034842  0.185229  0.003276  0.209053  0.120012  0.013996   \n",
       "DET   0.012341  0.009316  0.022384  0.005445  0.045372  0.017665  0.000484   \n",
       "X     0.025928  0.143566  0.002721  0.055858  0.076024  0.164533  0.010243   \n",
       ".     0.051971  0.092123  0.080123  0.174321  0.027068  0.093928  0.058197   \n",
       "CONJ  0.053147  0.053613  0.041026  0.120280  0.008392  0.036364  0.000466   \n",
       "NOUN  0.016817  0.176684  0.009547  0.013035  0.028933  0.240095  0.042666   \n",
       "ADJ   0.004303  0.077789  0.021020  0.004634  0.020357  0.064548  0.016551   \n",
       "PRON  0.034403  0.023579  0.007344  0.009664  0.089293  0.040588  0.005412   \n",
       "PRT   0.010167  0.018695  0.057724  0.102985  0.014103  0.042965  0.001968   \n",
       "VERB  0.082146  0.090789  0.023281  0.133847  0.218251  0.034805  0.005606   \n",
       "\n",
       "          NOUN       ADJ      PRON       PRT      VERB  \n",
       "ADV   0.031459  0.129853  0.015060  0.014726  0.345047  \n",
       "ADP   0.321866  0.105999  0.069232  0.001398  0.008278  \n",
       "NUM   0.350804  0.032758  0.001191  0.027993  0.017868  \n",
       "DET   0.636540  0.206171  0.003751  0.000242  0.040290  \n",
       "X     0.061300  0.017125  0.055858  0.184699  0.202145  \n",
       ".     0.221420  0.043670  0.065686  0.002436  0.088965  \n",
       "CONJ  0.349650  0.116084  0.057809  0.005128  0.158042  \n",
       "NOUN  0.263264  0.012117  0.004700  0.044061  0.148082  \n",
       "ADJ   0.701258  0.066700  0.000662  0.011255  0.010924  \n",
       "PRON  0.207576  0.074990  0.008118  0.011210  0.487824  \n",
       "PRT   0.246638  0.084946  0.018039  0.001968  0.399803  \n",
       "VERB  0.110955  0.064471  0.035350  0.031223  0.169275  "
      ]
     },
     "execution_count": 179,
     "metadata": {},
     "output_type": "execute_result"
    }
   ],
   "source": [
    "tags_df"
   ]
  },
  {
   "cell_type": "code",
   "execution_count": 180,
   "metadata": {},
   "outputs": [],
   "source": [
    "# compute word given tag: Emission Probability\n",
    "def word_given_tag(word, tag, train_bag = train_tagged_words):\n",
    "    tag_list = [pair for pair in train_bag if pair[1]==tag]\n",
    "    count_tag = len(tag_list)\n",
    "    w_given_tag_list = [pair[0] for pair in tag_list if pair[0]==word]\n",
    "    count_w_given_tag = len(w_given_tag_list)\n",
    "    \n",
    "    return (count_w_given_tag, count_tag)"
   ]
  },
  {
   "cell_type": "code",
   "execution_count": 181,
   "metadata": {},
   "outputs": [],
   "source": [
    "# plain vanilla Viterbi Heuristic\n",
    "def Viterbi(words, train_bag = train_tagged_words):\n",
    "    state = []\n",
    "    T = list(set([pair[1] for pair in train_bag]))\n",
    "    \n",
    "    for key, word in enumerate(words):\n",
    "        #initialise list of probability column for a given observation\n",
    "        p = [] \n",
    "        for tag in T:\n",
    "            if key == 0:\n",
    "                transition_p = tags_df.loc['.', tag]\n",
    "            else:\n",
    "                transition_p = tags_df.loc[state[-1], tag]\n",
    "                \n",
    "            # compute emission and state probabilities\n",
    "            emission_p = word_given_tag(words[key], tag)[0]/word_given_tag(words[key], tag)[1]\n",
    "            state_probability = emission_p * transition_p    \n",
    "            p.append(state_probability)\n",
    "            \n",
    "        pmax = max(p)\n",
    "        # getting state for which probability is maximum\n",
    "        state_max = T[p.index(pmax)] \n",
    "        state.append(state_max)\n",
    "    return list(zip(words, state))"
   ]
  },
  {
   "cell_type": "code",
   "execution_count": 182,
   "metadata": {},
   "outputs": [
    {
     "data": {
      "text/plain": [
       "[[('Virginia', 'NOUN'), (':', '.')],\n",
       " [('He', 'PRON'),\n",
       "  ('said', 'VERB'),\n",
       "  ('0', 'X'),\n",
       "  ('authors', 'NOUN'),\n",
       "  ('of', 'ADP'),\n",
       "  ('Scoring', 'NOUN'),\n",
       "  ('High', 'NOUN'),\n",
       "  ('``', '.'),\n",
       "  ('scrupulously', 'ADV'),\n",
       "  ('avoid', 'VERB'),\n",
       "  (\"''\", '.'),\n",
       "  ('*-1', 'X'),\n",
       "  ('replicating', 'VERB'),\n",
       "  ('exact', 'ADJ'),\n",
       "  ('questions', 'NOUN'),\n",
       "  (',', '.'),\n",
       "  ('but', 'CONJ'),\n",
       "  ('he', 'PRON'),\n",
       "  ('does', 'VERB'),\n",
       "  (\"n't\", 'ADV'),\n",
       "  ('deny', 'VERB'),\n",
       "  ('that', 'ADP'),\n",
       "  ('some', 'DET'),\n",
       "  ('items', 'NOUN'),\n",
       "  ('are', 'VERB'),\n",
       "  ('similar', 'ADJ'),\n",
       "  ('.', '.')],\n",
       " [('Komatsu', 'NOUN'),\n",
       "  ('Ltd.', 'NOUN'),\n",
       "  (',', '.'),\n",
       "  ('a', 'DET'),\n",
       "  ('large', 'ADJ'),\n",
       "  ('integrated', 'VERB'),\n",
       "  ('maker', 'NOUN'),\n",
       "  ('of', 'ADP'),\n",
       "  ('construction', 'NOUN'),\n",
       "  ('machinery', 'NOUN'),\n",
       "  (',', '.'),\n",
       "  ('posted', 'VERB'),\n",
       "  ('a', 'DET'),\n",
       "  ('32', 'NUM'),\n",
       "  ('%', 'NOUN'),\n",
       "  ('unconsolidated', 'ADJ'),\n",
       "  ('gain', 'NOUN'),\n",
       "  ('in', 'ADP'),\n",
       "  ('first-half', 'ADJ'),\n",
       "  ('pretax', 'NOUN'),\n",
       "  ('profit', 'NOUN'),\n",
       "  ('.', '.')],\n",
       " [('Cathryn', 'NOUN'),\n",
       "  ('Rice', 'NOUN'),\n",
       "  ('could', 'VERB'),\n",
       "  ('hardly', 'ADV'),\n",
       "  ('believe', 'VERB'),\n",
       "  ('her', 'PRON'),\n",
       "  ('eyes', 'NOUN'),\n",
       "  ('.', '.')],\n",
       " [('Japanese', 'ADJ'),\n",
       "  ('money', 'NOUN'),\n",
       "  ('will', 'VERB'),\n",
       "  ('help', 'VERB'),\n",
       "  ('*-1', 'X'),\n",
       "  ('turn', 'VERB'),\n",
       "  ('Southeast', 'NOUN'),\n",
       "  ('Asia', 'NOUN'),\n",
       "  ('into', 'ADP'),\n",
       "  ('a', 'DET'),\n",
       "  ('more', 'ADV'),\n",
       "  ('cohesive', 'ADJ'),\n",
       "  ('economic', 'ADJ'),\n",
       "  ('region', 'NOUN'),\n",
       "  ('.', '.')],\n",
       " [('For', 'ADP'),\n",
       "  ('the', 'DET'),\n",
       "  ('year', 'NOUN'),\n",
       "  (',', '.'),\n",
       "  ('*-1', 'X'),\n",
       "  ('bolstered', 'VERB'),\n",
       "  ('*-2', 'X'),\n",
       "  ('by', 'ADP'),\n",
       "  ('the', 'DET'),\n",
       "  ('introduction', 'NOUN'),\n",
       "  ('of', 'ADP'),\n",
       "  ('the', 'DET'),\n",
       "  ('Colorliner', 'NOUN'),\n",
       "  ('newspaper-printing', 'NOUN'),\n",
       "  ('press', 'NOUN'),\n",
       "  (',', '.'),\n",
       "  ('graphics', 'NOUN'),\n",
       "  ('earnings', 'NOUN'),\n",
       "  ('almost', 'ADV'),\n",
       "  ('doubled', 'VERB'),\n",
       "  ('.', '.')],\n",
       " [('Columbia', 'NOUN'),\n",
       "  ('wo', 'VERB'),\n",
       "  (\"n't\", 'ADV'),\n",
       "  ('comment', 'VERB'),\n",
       "  ('on', 'ADP'),\n",
       "  ('all', 'DET'),\n",
       "  ('the', 'DET'),\n",
       "  ('speculation', 'NOUN'),\n",
       "  ('.', '.')],\n",
       " [('The', 'DET'),\n",
       "  ('fact', 'NOUN'),\n",
       "  ('that', 'ADP'),\n",
       "  ('New', 'NOUN'),\n",
       "  ('England', 'NOUN'),\n",
       "  ('proposed', 'VERB'),\n",
       "  ('lower', 'ADJ'),\n",
       "  ('rate', 'NOUN'),\n",
       "  ('increases', 'NOUN'),\n",
       "  ('--', '.'),\n",
       "  ('4.8', 'NUM'),\n",
       "  ('%', 'NOUN'),\n",
       "  ('*U*', 'X'),\n",
       "  ('over', 'ADP'),\n",
       "  ('seven', 'NUM'),\n",
       "  ('years', 'NOUN'),\n",
       "  ('against', 'ADP'),\n",
       "  ('around', 'ADP'),\n",
       "  ('5.5', 'NUM'),\n",
       "  ('%', 'NOUN'),\n",
       "  ('boosts', 'NOUN'),\n",
       "  ('proposed', 'VERB'),\n",
       "  ('*', 'X'),\n",
       "  ('by', 'ADP'),\n",
       "  ('the', 'DET'),\n",
       "  ('other', 'ADJ'),\n",
       "  ('two', 'NUM'),\n",
       "  ('outside', 'ADJ'),\n",
       "  ('bidders', 'NOUN'),\n",
       "  ('--', '.'),\n",
       "  ('complicated', 'ADP'),\n",
       "  ('negotiations', 'NOUN'),\n",
       "  ('with', 'ADP'),\n",
       "  ('state', 'NOUN'),\n",
       "  ('officials', 'NOUN'),\n",
       "  (',', '.'),\n",
       "  ('Mr.', 'NOUN'),\n",
       "  ('Ross', 'NOUN'),\n",
       "  ('asserted', 'VERB'),\n",
       "  ('0', 'X'),\n",
       "  ('*T*-1', 'X'),\n",
       "  ('.', '.')],\n",
       " [('Moreover', 'ADV'),\n",
       "  (',', '.'),\n",
       "  ('we', 'PRON'),\n",
       "  (\"'ve\", 'VERB'),\n",
       "  ('probably', 'ADV'),\n",
       "  ('been', 'VERB'),\n",
       "  ('the', 'DET'),\n",
       "  ('most', 'ADV'),\n",
       "  ('aggressive', 'ADJ'),\n",
       "  ('firm', 'NOUN'),\n",
       "  ('on', 'ADP'),\n",
       "  ('the', 'DET'),\n",
       "  ('Street', 'NOUN'),\n",
       "  ('in', 'ADP'),\n",
       "  ('*', 'X'),\n",
       "  ('reducing', 'VERB'),\n",
       "  ('costs', 'NOUN'),\n",
       "  (',', '.'),\n",
       "  ('which', 'DET'),\n",
       "  ('*T*-1', 'X'),\n",
       "  ('are', 'VERB'),\n",
       "  ('down', 'ADV'),\n",
       "  ('around', 'ADP'),\n",
       "  ('40', 'NUM'),\n",
       "  ('%', 'NOUN'),\n",
       "  ('over', 'ADP'),\n",
       "  ('the', 'DET'),\n",
       "  ('last', 'ADJ'),\n",
       "  ('six', 'NUM'),\n",
       "  ('months', 'NOUN'),\n",
       "  ('.', '.')],\n",
       " [('Wedtech', 'NOUN'),\n",
       "  ('did', 'VERB'),\n",
       "  (\"n't\", 'ADV'),\n",
       "  ('just', 'ADV'),\n",
       "  ('use', 'VERB'),\n",
       "  ('old', 'ADJ'),\n",
       "  ('fashioned', 'VERB'),\n",
       "  ('bribery', 'NOUN'),\n",
       "  ('.', '.')]]"
      ]
     },
     "execution_count": 182,
     "metadata": {},
     "output_type": "execute_result"
    }
   ],
   "source": [
    "# Running on entire test dataset would take lots of time. \n",
    "# Let's test our Viterbi algorithm on a few sample sentences of validation dataset\n",
    "\n",
    "random.seed(1234)\n",
    "\n",
    "# choose random 10 sents\n",
    "rndom = [random.randint(1,len(validation_set)) for x in range(10)]\n",
    "\n",
    "# list of sents\n",
    "test_run = [validation_set[i] for i in rndom]\n",
    "\n",
    "# list of tagged words\n",
    "test_run_base = [tup for sent in test_run for tup in sent]\n",
    "\n",
    "# list of untagged words\n",
    "test_tagged_words = [tup[0] for sent in test_run for tup in sent]\n",
    "test_run\n"
   ]
  },
  {
   "cell_type": "code",
   "execution_count": 183,
   "metadata": {},
   "outputs": [],
   "source": [
    "# tagging the validation sentences\n",
    "tagged_seq = Viterbi(test_tagged_words)"
   ]
  },
  {
   "cell_type": "code",
   "execution_count": 184,
   "metadata": {},
   "outputs": [
    {
     "name": "stdout",
     "output_type": "stream",
     "text": [
      "[('Virginia', 'NOUN'), (':', '.'), ('He', 'PRON'), ('said', 'VERB'), ('0', 'X'), ('authors', 'NOUN'), ('of', 'ADP'), ('Scoring', 'NOUN'), ('High', 'NOUN'), ('``', '.'), ('scrupulously', 'ADV'), ('avoid', 'VERB'), (\"''\", '.'), ('*-1', 'X'), ('replicating', 'ADV'), ('exact', 'ADJ'), ('questions', 'NOUN'), (',', '.'), ('but', 'CONJ'), ('he', 'PRON'), ('does', 'VERB'), (\"n't\", 'ADV'), ('deny', 'VERB'), ('that', 'ADP'), ('some', 'DET'), ('items', 'NOUN'), ('are', 'VERB'), ('similar', 'ADJ'), ('.', '.'), ('Komatsu', 'NOUN'), ('Ltd.', 'NOUN'), (',', '.'), ('a', 'DET'), ('large', 'ADJ'), ('integrated', 'ADJ'), ('maker', 'NOUN'), ('of', 'ADP'), ('construction', 'NOUN'), ('machinery', 'NOUN'), (',', '.'), ('posted', 'VERB'), ('a', 'DET'), ('32', 'NUM'), ('%', 'NOUN'), ('unconsolidated', 'ADV'), ('gain', 'VERB'), ('in', 'ADP'), ('first-half', 'ADJ'), ('pretax', 'NOUN'), ('profit', 'NOUN'), ('.', '.'), ('Cathryn', 'NOUN'), ('Rice', 'NOUN'), ('could', 'VERB'), ('hardly', 'ADV'), ('believe', 'VERB'), ('her', 'PRON'), ('eyes', 'ADV'), ('.', '.'), ('Japanese', 'ADJ'), ('money', 'NOUN'), ('will', 'VERB'), ('help', 'VERB'), ('*-1', 'X'), ('turn', 'VERB'), ('Southeast', 'ADJ'), ('Asia', 'NOUN'), ('into', 'ADP'), ('a', 'DET'), ('more', 'ADJ'), ('cohesive', 'ADV'), ('economic', 'ADJ'), ('region', 'NOUN'), ('.', '.'), ('For', 'ADP'), ('the', 'DET'), ('year', 'NOUN'), (',', '.'), ('*-1', 'X'), ('bolstered', 'VERB'), ('*-2', 'X'), ('by', 'ADP'), ('the', 'DET'), ('introduction', 'NOUN'), ('of', 'ADP'), ('the', 'DET'), ('Colorliner', 'ADV'), ('newspaper-printing', 'ADV'), ('press', 'NOUN'), (',', '.'), ('graphics', 'NOUN'), ('earnings', 'NOUN'), ('almost', 'ADV'), ('doubled', 'VERB'), ('.', '.'), ('Columbia', 'NOUN'), ('wo', 'VERB'), (\"n't\", 'ADV'), ('comment', 'VERB'), ('on', 'ADP'), ('all', 'DET'), ('the', 'DET'), ('speculation', 'NOUN'), ('.', '.'), ('The', 'DET'), ('fact', 'NOUN'), ('that', 'ADP'), ('New', 'NOUN'), ('England', 'NOUN'), ('proposed', 'VERB'), ('lower', 'ADJ'), ('rate', 'NOUN'), ('increases', 'NOUN'), ('--', '.'), ('4.8', 'NUM'), ('%', 'NOUN'), ('*U*', 'X'), ('over', 'ADP'), ('seven', 'NUM'), ('years', 'NOUN'), ('against', 'ADP'), ('around', 'ADP'), ('5.5', 'NUM'), ('%', 'NOUN'), ('boosts', 'VERB'), ('proposed', 'VERB'), ('*', 'X'), ('by', 'ADP'), ('the', 'DET'), ('other', 'ADJ'), ('two', 'NUM'), ('outside', 'ADJ'), ('bidders', 'NOUN'), ('--', '.'), ('complicated', 'ADJ'), ('negotiations', 'NOUN'), ('with', 'ADP'), ('state', 'NOUN'), ('officials', 'NOUN'), (',', '.'), ('Mr.', 'NOUN'), ('Ross', 'NOUN'), ('asserted', 'VERB'), ('0', 'X'), ('*T*-1', 'X'), ('.', '.'), ('Moreover', 'ADV'), (',', '.'), ('we', 'PRON'), (\"'ve\", 'VERB'), ('probably', 'ADV'), ('been', 'VERB'), ('the', 'DET'), ('most', 'ADJ'), ('aggressive', 'ADJ'), ('firm', 'NOUN'), ('on', 'ADP'), ('the', 'DET'), ('Street', 'NOUN'), ('in', 'ADP'), ('*', 'X'), ('reducing', 'VERB'), ('costs', 'NOUN'), (',', '.'), ('which', 'DET'), ('*T*-1', 'X'), ('are', 'VERB'), ('down', 'ADV'), ('around', 'ADP'), ('40', 'NUM'), ('%', 'NOUN'), ('over', 'ADP'), ('the', 'DET'), ('last', 'ADJ'), ('six', 'NUM'), ('months', 'NOUN'), ('.', '.'), ('Wedtech', 'NOUN'), ('did', 'VERB'), (\"n't\", 'ADV'), ('just', 'ADV'), ('use', 'VERB'), ('old', 'ADJ'), ('fashioned', 'ADV'), ('bribery', 'ADV'), ('.', '.')]\n"
     ]
    }
   ],
   "source": [
    "print(tagged_seq)"
   ]
  },
  {
   "cell_type": "code",
   "execution_count": 185,
   "metadata": {},
   "outputs": [],
   "source": [
    "# accuracy with vanilla Viterbi\n",
    "check = [i for i, j in zip(tagged_seq, test_run_base) if i == j] "
   ]
  },
  {
   "cell_type": "code",
   "execution_count": 186,
   "metadata": {},
   "outputs": [
    {
     "data": {
      "text/plain": [
       "0.9193548387096774"
      ]
     },
     "execution_count": 186,
     "metadata": {},
     "output_type": "execute_result"
    }
   ],
   "source": [
    "accuracy = len(check)/len(tagged_seq)\n",
    "accuracy"
   ]
  },
  {
   "cell_type": "markdown",
   "metadata": {},
   "source": [
    "### Solve the problem of unknown words"
   ]
  },
  {
   "cell_type": "code",
   "execution_count": 187,
   "metadata": {},
   "outputs": [],
   "source": [
    "# Modified the Viterbi algorithm to handle the issues related to tagging unknown word"
   ]
  },
  {
   "cell_type": "code",
   "execution_count": 188,
   "metadata": {},
   "outputs": [],
   "source": [
    "# Viterbi Heuristic (modified 1)\n",
    "def Viterbi_mod1(words, train_bag = train_tagged_words):\n",
    "    state = [] # initialized tag states\n",
    "    T = list(set([pair[1] for pair in train_bag]))\n",
    "    \n",
    "    for key, word in enumerate(words):\n",
    "        #initialise list of probability column for a given observation\n",
    "        p = [] #this list is leveraged for storing the state probabilities where emission probability is non zero\n",
    "        pmodified = [] #this list is leveraged for storing the state probabilities for items having zero emission probability\n",
    "        emission_probab = [] # stores the emission probability for a given word\n",
    "        for tag in T:\n",
    "            if key == 0:\n",
    "                transition_p = tags_df.loc['.', tag]\n",
    "            else:\n",
    "                transition_p = tags_df.loc[state[-1], tag]\n",
    "                \n",
    "            # compute emission and state probabilities\n",
    "            emission_p = word_given_tag(words[key], tag)[0]/word_given_tag(words[key], tag)[1]\n",
    "            emission_probab.append(emission_p) # stores emission probability\n",
    "            state_probability = emission_p * transition_p # derives vanilla state probability\n",
    "            state_probability_modified = 0.01 * transition_p # derives modified state probability where emission probability = 0\n",
    "            p.append(state_probability) # stores vanilla state probability\n",
    "            pmodified.append(state_probability_modified) # stores modified state probability\n",
    "            \n",
    "        emission_probab_max = max(emission_probab) # calculates the maximum of the emission probabilities stored\n",
    "        if emission_probab_max == 0:# if emission probability is zero the word is a unknown word\n",
    "            pmax = max(pmodified) # for unknown words consider maximum of modified probability\n",
    "            state_max = T[pmodified.index(pmax)] \n",
    "        else: # for non zero emission probability\n",
    "            pmax = max(p) # for known words consider max of vanilla state probability\n",
    "            state_max = T[p.index(pmax)]\n",
    "        \n",
    "        # getting state for which probability is maximum\n",
    "        #state_max = T[p.index(pmax)] \n",
    "        state.append(state_max)\n",
    "    return list(zip(words, state))"
   ]
  },
  {
   "cell_type": "code",
   "execution_count": 189,
   "metadata": {},
   "outputs": [],
   "source": [
    "# tagging the validation sentences with modified Viterbi\n",
    "\n",
    "tagged_seq1 = Viterbi_mod1(test_tagged_words)"
   ]
  },
  {
   "cell_type": "code",
   "execution_count": 190,
   "metadata": {},
   "outputs": [
    {
     "name": "stdout",
     "output_type": "stream",
     "text": [
      "[('Virginia', 'NOUN'), (':', '.'), ('He', 'PRON'), ('said', 'VERB'), ('0', 'X'), ('authors', 'NOUN'), ('of', 'ADP'), ('Scoring', 'NOUN'), ('High', 'NOUN'), ('``', '.'), ('scrupulously', 'NOUN'), ('avoid', 'VERB'), (\"''\", '.'), ('*-1', 'X'), ('replicating', 'VERB'), ('exact', 'ADJ'), ('questions', 'NOUN'), (',', '.'), ('but', 'CONJ'), ('he', 'PRON'), ('does', 'VERB'), (\"n't\", 'ADV'), ('deny', 'VERB'), ('that', 'ADP'), ('some', 'DET'), ('items', 'NOUN'), ('are', 'VERB'), ('similar', 'ADJ'), ('.', '.'), ('Komatsu', 'NOUN'), ('Ltd.', 'NOUN'), (',', '.'), ('a', 'DET'), ('large', 'ADJ'), ('integrated', 'ADJ'), ('maker', 'NOUN'), ('of', 'ADP'), ('construction', 'NOUN'), ('machinery', 'NOUN'), (',', '.'), ('posted', 'VERB'), ('a', 'DET'), ('32', 'NUM'), ('%', 'NOUN'), ('unconsolidated', 'NOUN'), ('gain', 'NOUN'), ('in', 'ADP'), ('first-half', 'ADJ'), ('pretax', 'NOUN'), ('profit', 'NOUN'), ('.', '.'), ('Cathryn', 'NOUN'), ('Rice', 'NOUN'), ('could', 'VERB'), ('hardly', 'ADV'), ('believe', 'VERB'), ('her', 'PRON'), ('eyes', 'VERB'), ('.', '.'), ('Japanese', 'ADJ'), ('money', 'NOUN'), ('will', 'VERB'), ('help', 'VERB'), ('*-1', 'X'), ('turn', 'VERB'), ('Southeast', 'ADJ'), ('Asia', 'NOUN'), ('into', 'ADP'), ('a', 'DET'), ('more', 'ADJ'), ('cohesive', 'NOUN'), ('economic', 'ADJ'), ('region', 'NOUN'), ('.', '.'), ('For', 'ADP'), ('the', 'DET'), ('year', 'NOUN'), (',', '.'), ('*-1', 'X'), ('bolstered', 'VERB'), ('*-2', 'X'), ('by', 'ADP'), ('the', 'DET'), ('introduction', 'NOUN'), ('of', 'ADP'), ('the', 'DET'), ('Colorliner', 'NOUN'), ('newspaper-printing', 'NOUN'), ('press', 'NOUN'), (',', '.'), ('graphics', 'NOUN'), ('earnings', 'NOUN'), ('almost', 'ADV'), ('doubled', 'VERB'), ('.', '.'), ('Columbia', 'NOUN'), ('wo', 'VERB'), (\"n't\", 'ADV'), ('comment', 'VERB'), ('on', 'ADP'), ('all', 'DET'), ('the', 'DET'), ('speculation', 'NOUN'), ('.', '.'), ('The', 'DET'), ('fact', 'NOUN'), ('that', 'ADP'), ('New', 'NOUN'), ('England', 'NOUN'), ('proposed', 'VERB'), ('lower', 'ADJ'), ('rate', 'NOUN'), ('increases', 'NOUN'), ('--', '.'), ('4.8', 'NUM'), ('%', 'NOUN'), ('*U*', 'X'), ('over', 'ADP'), ('seven', 'NUM'), ('years', 'NOUN'), ('against', 'ADP'), ('around', 'ADP'), ('5.5', 'NUM'), ('%', 'NOUN'), ('boosts', 'VERB'), ('proposed', 'VERB'), ('*', 'X'), ('by', 'ADP'), ('the', 'DET'), ('other', 'ADJ'), ('two', 'NUM'), ('outside', 'ADJ'), ('bidders', 'NOUN'), ('--', '.'), ('complicated', 'ADJ'), ('negotiations', 'NOUN'), ('with', 'ADP'), ('state', 'NOUN'), ('officials', 'NOUN'), (',', '.'), ('Mr.', 'NOUN'), ('Ross', 'NOUN'), ('asserted', 'VERB'), ('0', 'X'), ('*T*-1', 'X'), ('.', '.'), ('Moreover', 'ADV'), (',', '.'), ('we', 'PRON'), (\"'ve\", 'VERB'), ('probably', 'ADV'), ('been', 'VERB'), ('the', 'DET'), ('most', 'ADJ'), ('aggressive', 'ADJ'), ('firm', 'NOUN'), ('on', 'ADP'), ('the', 'DET'), ('Street', 'NOUN'), ('in', 'ADP'), ('*', 'X'), ('reducing', 'VERB'), ('costs', 'NOUN'), (',', '.'), ('which', 'DET'), ('*T*-1', 'X'), ('are', 'VERB'), ('down', 'ADV'), ('around', 'ADP'), ('40', 'NUM'), ('%', 'NOUN'), ('over', 'ADP'), ('the', 'DET'), ('last', 'ADJ'), ('six', 'NUM'), ('months', 'NOUN'), ('.', '.'), ('Wedtech', 'NOUN'), ('did', 'VERB'), (\"n't\", 'ADV'), ('just', 'ADV'), ('use', 'VERB'), ('old', 'ADJ'), ('fashioned', 'NOUN'), ('bribery', 'NOUN'), ('.', '.')]\n"
     ]
    }
   ],
   "source": [
    "print(tagged_seq1)"
   ]
  },
  {
   "cell_type": "code",
   "execution_count": 191,
   "metadata": {},
   "outputs": [],
   "source": [
    "# accuracy\n",
    "check1 = [i for i, j in zip(tagged_seq1, test_run_base) if i == j] "
   ]
  },
  {
   "cell_type": "code",
   "execution_count": 192,
   "metadata": {},
   "outputs": [
    {
     "data": {
      "text/plain": [
       "0.9408602150537635"
      ]
     },
     "execution_count": 192,
     "metadata": {},
     "output_type": "execute_result"
    }
   ],
   "source": [
    "accuracy1 = len(check1)/len(tagged_seq1)\n",
    "accuracy1"
   ]
  },
  {
   "cell_type": "code",
   "execution_count": 193,
   "metadata": {},
   "outputs": [],
   "source": [
    "# modification -2: rule based modification"
   ]
  },
  {
   "cell_type": "code",
   "execution_count": 194,
   "metadata": {},
   "outputs": [],
   "source": [
    "# define patterns for tagging \n",
    "patterns = [\n",
    "    (r'.*ing$', 'VERB'),              # gerund\n",
    "    (r'.*ed$', 'VERB'),               # past tense\n",
    "    (r'.*es$', 'VERB'),               # 3rd singular present\n",
    "    (r'.*ould$', 'VERB'),             # modals\n",
    "    (r'\\*T?\\*?-[0-9]+$', 'X'),        # X\n",
    "    (r'^-?[0-9]+(.[0-9]+)?$', 'NUM'), # cardinal numbers\n",
    "    (r'.*', 'NOUN')                   # nouns\n",
    "]"
   ]
  },
  {
   "cell_type": "code",
   "execution_count": 195,
   "metadata": {},
   "outputs": [],
   "source": [
    "# Rule based tagger\n",
    "regexp_tagger = nltk.RegexpTagger(patterns)"
   ]
  },
  {
   "cell_type": "code",
   "execution_count": 196,
   "metadata": {},
   "outputs": [],
   "source": [
    "# Viterbi Heuristic (modified 2)\n",
    "def Viterbi_mod2(words, train_bag = train_tagged_words):\n",
    "    state = [] # initialized tag states\n",
    "    T = list(set([pair[1] for pair in train_bag]))\n",
    "    \n",
    "    for key, word in enumerate(words):\n",
    "        #initialise list of probability column for a given observation\n",
    "        p = [] #this list is leveraged for storing the state probabilities where emission probability is non zero\n",
    "        pmodified = [] #this list is leveraged for storing the state probabilities where emission probability is zero\n",
    "        emission_probab = [] # stores the emission probability for a given word\n",
    "        for tag in T:\n",
    "            if key == 0:\n",
    "                transition_p = tags_df.loc['.', tag]\n",
    "            else:\n",
    "                transition_p = tags_df.loc[state[-1], tag]\n",
    "                \n",
    "            # compute emission and state probabilities\n",
    "            emission_p = word_given_tag(words[key], tag)[0]/word_given_tag(words[key], tag)[1]\n",
    "            emission_probab.append(emission_p) # stores emission probability\n",
    "            state_probability = emission_p * transition_p # derives vanilla state probability\n",
    "            state_probability_modified = 0.02 * transition_p # derives modified state probability where emission probability = 0\n",
    "            p.append(state_probability) # stores vanilla state probability\n",
    "            pmodified.append(state_probability_modified) # stores modified state probability\n",
    "            \n",
    "        emission_probab_max = max(emission_probab)\n",
    "        if emission_probab_max == 0:\n",
    "            state_max = regexp_tagger.tag([word])[0][1]  # rule base tagger called\n",
    "        else:\n",
    "            pmax = max(p)\n",
    "            state_max = T[p.index(pmax)]\n",
    "        \n",
    "        # getting state for which probability is maximum\n",
    "        #state_max = T[p.index(pmax)] \n",
    "        state.append(state_max)\n",
    "    return list(zip(words, state))"
   ]
  },
  {
   "cell_type": "code",
   "execution_count": 197,
   "metadata": {},
   "outputs": [],
   "source": [
    "# tagging the validation sentences with modified Viterbi\n",
    "\n",
    "tagged_seq2 = Viterbi_mod2(test_tagged_words)"
   ]
  },
  {
   "cell_type": "code",
   "execution_count": 198,
   "metadata": {},
   "outputs": [
    {
     "name": "stdout",
     "output_type": "stream",
     "text": [
      "[('Virginia', 'NOUN'), (':', '.'), ('He', 'PRON'), ('said', 'VERB'), ('0', 'X'), ('authors', 'NOUN'), ('of', 'ADP'), ('Scoring', 'NOUN'), ('High', 'NOUN'), ('``', '.'), ('scrupulously', 'NOUN'), ('avoid', 'VERB'), (\"''\", '.'), ('*-1', 'X'), ('replicating', 'VERB'), ('exact', 'ADJ'), ('questions', 'NOUN'), (',', '.'), ('but', 'CONJ'), ('he', 'PRON'), ('does', 'VERB'), (\"n't\", 'ADV'), ('deny', 'VERB'), ('that', 'ADP'), ('some', 'DET'), ('items', 'NOUN'), ('are', 'VERB'), ('similar', 'ADJ'), ('.', '.'), ('Komatsu', 'NOUN'), ('Ltd.', 'NOUN'), (',', '.'), ('a', 'DET'), ('large', 'ADJ'), ('integrated', 'ADJ'), ('maker', 'NOUN'), ('of', 'ADP'), ('construction', 'NOUN'), ('machinery', 'NOUN'), (',', '.'), ('posted', 'VERB'), ('a', 'DET'), ('32', 'NUM'), ('%', 'NOUN'), ('unconsolidated', 'VERB'), ('gain', 'NOUN'), ('in', 'ADP'), ('first-half', 'ADJ'), ('pretax', 'NOUN'), ('profit', 'NOUN'), ('.', '.'), ('Cathryn', 'NOUN'), ('Rice', 'NOUN'), ('could', 'VERB'), ('hardly', 'ADV'), ('believe', 'VERB'), ('her', 'PRON'), ('eyes', 'VERB'), ('.', '.'), ('Japanese', 'ADJ'), ('money', 'NOUN'), ('will', 'VERB'), ('help', 'VERB'), ('*-1', 'X'), ('turn', 'VERB'), ('Southeast', 'ADJ'), ('Asia', 'NOUN'), ('into', 'ADP'), ('a', 'DET'), ('more', 'ADJ'), ('cohesive', 'NOUN'), ('economic', 'ADJ'), ('region', 'NOUN'), ('.', '.'), ('For', 'ADP'), ('the', 'DET'), ('year', 'NOUN'), (',', '.'), ('*-1', 'X'), ('bolstered', 'VERB'), ('*-2', 'X'), ('by', 'ADP'), ('the', 'DET'), ('introduction', 'NOUN'), ('of', 'ADP'), ('the', 'DET'), ('Colorliner', 'NOUN'), ('newspaper-printing', 'VERB'), ('press', 'NOUN'), (',', '.'), ('graphics', 'NOUN'), ('earnings', 'NOUN'), ('almost', 'ADV'), ('doubled', 'VERB'), ('.', '.'), ('Columbia', 'NOUN'), ('wo', 'VERB'), (\"n't\", 'ADV'), ('comment', 'VERB'), ('on', 'ADP'), ('all', 'DET'), ('the', 'DET'), ('speculation', 'NOUN'), ('.', '.'), ('The', 'DET'), ('fact', 'NOUN'), ('that', 'ADP'), ('New', 'NOUN'), ('England', 'NOUN'), ('proposed', 'VERB'), ('lower', 'ADJ'), ('rate', 'NOUN'), ('increases', 'NOUN'), ('--', '.'), ('4.8', 'NUM'), ('%', 'NOUN'), ('*U*', 'X'), ('over', 'ADP'), ('seven', 'NUM'), ('years', 'NOUN'), ('against', 'ADP'), ('around', 'ADP'), ('5.5', 'NUM'), ('%', 'NOUN'), ('boosts', 'VERB'), ('proposed', 'VERB'), ('*', 'X'), ('by', 'ADP'), ('the', 'DET'), ('other', 'ADJ'), ('two', 'NUM'), ('outside', 'ADJ'), ('bidders', 'NOUN'), ('--', '.'), ('complicated', 'ADJ'), ('negotiations', 'NOUN'), ('with', 'ADP'), ('state', 'NOUN'), ('officials', 'NOUN'), (',', '.'), ('Mr.', 'NOUN'), ('Ross', 'NOUN'), ('asserted', 'VERB'), ('0', 'X'), ('*T*-1', 'X'), ('.', '.'), ('Moreover', 'ADV'), (',', '.'), ('we', 'PRON'), (\"'ve\", 'VERB'), ('probably', 'ADV'), ('been', 'VERB'), ('the', 'DET'), ('most', 'ADJ'), ('aggressive', 'ADJ'), ('firm', 'NOUN'), ('on', 'ADP'), ('the', 'DET'), ('Street', 'NOUN'), ('in', 'ADP'), ('*', 'X'), ('reducing', 'VERB'), ('costs', 'NOUN'), (',', '.'), ('which', 'DET'), ('*T*-1', 'X'), ('are', 'VERB'), ('down', 'ADV'), ('around', 'ADP'), ('40', 'NUM'), ('%', 'NOUN'), ('over', 'ADP'), ('the', 'DET'), ('last', 'ADJ'), ('six', 'NUM'), ('months', 'NOUN'), ('.', '.'), ('Wedtech', 'NOUN'), ('did', 'VERB'), (\"n't\", 'ADV'), ('just', 'ADV'), ('use', 'VERB'), ('old', 'ADJ'), ('fashioned', 'VERB'), ('bribery', 'NOUN'), ('.', '.')]\n"
     ]
    }
   ],
   "source": [
    "print(tagged_seq2)"
   ]
  },
  {
   "cell_type": "code",
   "execution_count": 199,
   "metadata": {},
   "outputs": [],
   "source": [
    "# accuracy\n",
    "check2 = [i for i, j in zip(tagged_seq2, test_run_base) if i == j] "
   ]
  },
  {
   "cell_type": "code",
   "execution_count": 200,
   "metadata": {},
   "outputs": [
    {
     "data": {
      "text/plain": [
       "0.9408602150537635"
      ]
     },
     "execution_count": 200,
     "metadata": {},
     "output_type": "execute_result"
    }
   ],
   "source": [
    "accuracy2 = len(check2)/len(tagged_seq2)\n",
    "accuracy2"
   ]
  },
  {
   "cell_type": "markdown",
   "metadata": {},
   "source": [
    "#### Evaluating tagging accuracy"
   ]
  },
  {
   "cell_type": "markdown",
   "metadata": {},
   "source": [
    "##### Tagging accuracies on validation set is evaluated in the above section alongwith the vanilla Viterbi and modification. These accuracies are printed here for comparison"
   ]
  },
  {
   "cell_type": "code",
   "execution_count": 201,
   "metadata": {},
   "outputs": [
    {
     "data": {
      "text/plain": [
       "0.9193548387096774"
      ]
     },
     "execution_count": 201,
     "metadata": {},
     "output_type": "execute_result"
    }
   ],
   "source": [
    "# tagging accuracy of vanilla viterbi algorithm\n",
    "accuracy"
   ]
  },
  {
   "cell_type": "code",
   "execution_count": 202,
   "metadata": {},
   "outputs": [
    {
     "data": {
      "text/plain": [
       "0.9408602150537635"
      ]
     },
     "execution_count": 202,
     "metadata": {},
     "output_type": "execute_result"
    }
   ],
   "source": [
    "# tagging accuracy of modified viterbi algorithm - 1st modification as defined by Viterbi_mod1\n",
    "accuracy1"
   ]
  },
  {
   "cell_type": "code",
   "execution_count": 203,
   "metadata": {},
   "outputs": [
    {
     "data": {
      "text/plain": [
       "0.9408602150537635"
      ]
     },
     "execution_count": 203,
     "metadata": {},
     "output_type": "execute_result"
    }
   ],
   "source": [
    "# tagging accuracy of modified viterbi algorithm - 2nd modification as defined by Viterbi_mod2\n",
    "accuracy2"
   ]
  },
  {
   "cell_type": "markdown",
   "metadata": {},
   "source": [
    "### Compare the tagging accuracies of the modifications with the vanilla Viterbi algorithm"
   ]
  },
  {
   "cell_type": "code",
   "execution_count": 204,
   "metadata": {},
   "outputs": [
    {
     "name": "stdout",
     "output_type": "stream",
     "text": [
      "Vanilla Viterbi algorithm = 0.9193548387096774\n",
      "Modified Viterbi algorithm (laplacian smoothing) = 0.9408602150537635\n",
      "Modified Viterbi (rule based) = 0.9408602150537635\n"
     ]
    }
   ],
   "source": [
    "# On validation set \n",
    "# tagging accuracies\n",
    "\n",
    "print(\"Vanilla Viterbi algorithm =\", accuracy) \n",
    "print(\"Modified Viterbi algorithm (laplacian smoothing) =\", accuracy1)\n",
    "print(\"Modified Viterbi (rule based) =\", accuracy2)"
   ]
  },
  {
   "cell_type": "code",
   "execution_count": 205,
   "metadata": {},
   "outputs": [
    {
     "name": "stdout",
     "output_type": "stream",
     "text": [
      "['Android is a mobile operating system developed by Google.\\n', 'Android has been the best-selling OS worldwide on smartphones since 2011 and on tablets since 2013.\\n', \"Google and Twitter made a deal in 2015 that gave Google access to Twitter's firehose.\\n\", 'Twitter is an online news and social networking service on which users post and interact with messages known as tweets.\\n', 'Before entering politics, Donald Trump was a domineering businessman and a television personality.\\n', 'The 2018 FIFA World Cup is the 21st FIFA World Cup, an international football tournament contested once every four years.\\n', 'This is the first World Cup to be held in Eastern Europe and the 11th time that it has been held in Europe.\\n', 'Show me the cheapest round trips from Dallas to Atlanta\\n', 'I would like to see flights from Denver to Philadelphia.\\n', 'Show me the price of the flights leaving Atlanta at about 3 in the afternoon and arriving in San Francisco.\\n', 'NASA invited social media users to experience the launch of ICESAT-2 Satellite.\\n', '\\n', '\\n', '\\n']\n"
     ]
    }
   ],
   "source": [
    "# on Test data\n",
    "#Reading the test file\n",
    "fo = open(\"Test_sentences.txt\", \"r+\")\n",
    "\n",
    "text = fo.readlines()\n",
    "print (text)\n",
    "\n",
    "# Close opened file\n",
    "fo.close()"
   ]
  },
  {
   "cell_type": "code",
   "execution_count": 206,
   "metadata": {},
   "outputs": [
    {
     "data": {
      "text/plain": [
       "['Android is a mobile operating system developed by Google.',\n",
       " 'Android has been the best-selling OS worldwide on smartphones since 2011 and on tablets since 2013.',\n",
       " \"Google and Twitter made a deal in 2015 that gave Google access to Twitter's firehose.\",\n",
       " 'Twitter is an online news and social networking service on which users post and interact with messages known as tweets.',\n",
       " 'Before entering politics, Donald Trump was a domineering businessman and a television personality.',\n",
       " 'The 2018 FIFA World Cup is the 21st FIFA World Cup, an international football tournament contested once every four years.',\n",
       " 'This is the first World Cup to be held in Eastern Europe and the 11th time that it has been held in Europe.',\n",
       " 'Show me the cheapest round trips from Dallas to Atlanta',\n",
       " 'I would like to see flights from Denver to Philadelphia.',\n",
       " 'Show me the price of the flights leaving Atlanta at about 3 in the afternoon and arriving in San Francisco.',\n",
       " 'NASA invited social media users to experience the launch of ICESAT-2 Satellite.']"
      ]
     },
     "execution_count": 206,
     "metadata": {},
     "output_type": "execute_result"
    }
   ],
   "source": [
    "# stripping the blankspaces from the text \n",
    "\n",
    "line_revised =[sentence.strip() for sentence in text if sentence.strip()!='']\n",
    "line_revised"
   ]
  },
  {
   "cell_type": "code",
   "execution_count": 207,
   "metadata": {},
   "outputs": [],
   "source": [
    "words_tokenized = [word_tokenize(sen) for sen in line_revised]"
   ]
  },
  {
   "cell_type": "code",
   "execution_count": 208,
   "metadata": {},
   "outputs": [
    {
     "name": "stdout",
     "output_type": "stream",
     "text": [
      "[[('Android', 'ADV'), ('is', 'VERB'), ('a', 'DET'), ('mobile', 'ADJ'), ('operating', 'NOUN'), ('system', 'NOUN'), ('developed', 'VERB'), ('by', 'ADP'), ('Google', 'ADV'), ('.', '.')], [('Android', 'ADV'), ('has', 'VERB'), ('been', 'VERB'), ('the', 'DET'), ('best-selling', 'ADJ'), ('OS', 'ADV'), ('worldwide', 'ADV'), ('on', 'ADP'), ('smartphones', 'ADV'), ('since', 'ADP'), ('2011', 'ADV'), ('and', 'CONJ'), ('on', 'ADP'), ('tablets', 'NOUN'), ('since', 'ADP'), ('2013', 'ADV'), ('.', '.')], [('Google', 'ADV'), ('and', 'CONJ'), ('Twitter', 'ADV'), ('made', 'VERB'), ('a', 'DET'), ('deal', 'NOUN'), ('in', 'ADP'), ('2015', 'ADV'), ('that', 'ADP'), ('gave', 'VERB'), ('Google', 'ADV'), ('access', 'NOUN'), ('to', 'PRT'), ('Twitter', 'ADV'), (\"'s\", 'PRT'), ('firehose', 'ADV'), ('.', '.')], [('Twitter', 'ADV'), ('is', 'VERB'), ('an', 'DET'), ('online', 'ADV'), ('news', 'NOUN'), ('and', 'CONJ'), ('social', 'ADJ'), ('networking', 'NOUN'), ('service', 'NOUN'), ('on', 'ADP'), ('which', 'DET'), ('users', 'NOUN'), ('post', 'NOUN'), ('and', 'CONJ'), ('interact', 'ADV'), ('with', 'ADP'), ('messages', 'ADV'), ('known', 'VERB'), ('as', 'ADP'), ('tweets', 'ADV'), ('.', '.')], [('Before', 'ADP'), ('entering', 'VERB'), ('politics', 'NOUN'), (',', '.'), ('Donald', 'NOUN'), ('Trump', 'NOUN'), ('was', 'VERB'), ('a', 'DET'), ('domineering', 'ADV'), ('businessman', 'NOUN'), ('and', 'CONJ'), ('a', 'DET'), ('television', 'NOUN'), ('personality', 'ADV'), ('.', '.')], [('The', 'DET'), ('2018', 'ADV'), ('FIFA', 'ADV'), ('World', 'NOUN'), ('Cup', 'ADV'), ('is', 'VERB'), ('the', 'DET'), ('21st', 'ADV'), ('FIFA', 'ADV'), ('World', 'NOUN'), ('Cup', 'ADV'), (',', '.'), ('an', 'DET'), ('international', 'ADJ'), ('football', 'NOUN'), ('tournament', 'ADV'), ('contested', 'ADV'), ('once', 'ADV'), ('every', 'DET'), ('four', 'NUM'), ('years', 'NOUN'), ('.', '.')], [('This', 'DET'), ('is', 'VERB'), ('the', 'DET'), ('first', 'ADJ'), ('World', 'NOUN'), ('Cup', 'ADV'), ('to', 'PRT'), ('be', 'VERB'), ('held', 'VERB'), ('in', 'ADP'), ('Eastern', 'NOUN'), ('Europe', 'NOUN'), ('and', 'CONJ'), ('the', 'DET'), ('11th', 'ADJ'), ('time', 'NOUN'), ('that', 'ADP'), ('it', 'PRON'), ('has', 'VERB'), ('been', 'VERB'), ('held', 'VERB'), ('in', 'ADP'), ('Europe', 'NOUN'), ('.', '.')], [('Show', 'NOUN'), ('me', 'PRON'), ('the', 'DET'), ('cheapest', 'ADJ'), ('round', 'NOUN'), ('trips', 'ADV'), ('from', 'ADP'), ('Dallas', 'NOUN'), ('to', 'PRT'), ('Atlanta', 'NOUN')], [('I', 'PRON'), ('would', 'VERB'), ('like', 'ADP'), ('to', 'PRT'), ('see', 'VERB'), ('flights', 'NOUN'), ('from', 'ADP'), ('Denver', 'NOUN'), ('to', 'PRT'), ('Philadelphia', 'NOUN'), ('.', '.')], [('Show', 'NOUN'), ('me', 'PRON'), ('the', 'DET'), ('price', 'NOUN'), ('of', 'ADP'), ('the', 'DET'), ('flights', 'NOUN'), ('leaving', 'VERB'), ('Atlanta', 'NOUN'), ('at', 'ADP'), ('about', 'ADP'), ('3', 'NUM'), ('in', 'ADP'), ('the', 'DET'), ('afternoon', 'NOUN'), ('and', 'CONJ'), ('arriving', 'ADV'), ('in', 'ADP'), ('San', 'NOUN'), ('Francisco', 'NOUN'), ('.', '.')], [('NASA', 'ADV'), ('invited', 'ADV'), ('social', 'ADJ'), ('media', 'NOUN'), ('users', 'NOUN'), ('to', 'PRT'), ('experience', 'NOUN'), ('the', 'DET'), ('launch', 'NOUN'), ('of', 'ADP'), ('ICESAT-2', 'ADV'), ('Satellite', 'ADV'), ('.', '.')]]\n"
     ]
    }
   ],
   "source": [
    "# making predictions on the test sentences by leveraging plain viterbi algorithm\n",
    "list_ts =[]\n",
    "for temp in line_revised:\n",
    "    list_ts.append(Viterbi(word_tokenize(temp)))\n",
    "print(list_ts)"
   ]
  },
  {
   "cell_type": "code",
   "execution_count": 209,
   "metadata": {},
   "outputs": [
    {
     "name": "stdout",
     "output_type": "stream",
     "text": [
      "[[('Android', 'NOUN'), ('is', 'VERB'), ('a', 'DET'), ('mobile', 'ADJ'), ('operating', 'NOUN'), ('system', 'NOUN'), ('developed', 'VERB'), ('by', 'ADP'), ('Google', 'DET'), ('.', '.')], [('Android', 'NOUN'), ('has', 'VERB'), ('been', 'VERB'), ('the', 'DET'), ('best-selling', 'ADJ'), ('OS', 'NOUN'), ('worldwide', 'NOUN'), ('on', 'ADP'), ('smartphones', 'DET'), ('since', 'ADP'), ('2011', 'DET'), ('and', 'CONJ'), ('on', 'ADP'), ('tablets', 'NOUN'), ('since', 'ADP'), ('2013', 'DET'), ('.', '.')], [('Google', 'NOUN'), ('and', 'CONJ'), ('Twitter', 'NOUN'), ('made', 'VERB'), ('a', 'DET'), ('deal', 'NOUN'), ('in', 'ADP'), ('2015', 'DET'), ('that', 'ADP'), ('gave', 'VERB'), ('Google', 'X'), ('access', 'NOUN'), ('to', 'PRT'), ('Twitter', 'VERB'), (\"'s\", 'PRT'), ('firehose', 'VERB'), ('.', '.')], [('Twitter', 'NOUN'), ('is', 'VERB'), ('an', 'DET'), ('online', 'NOUN'), ('news', 'NOUN'), ('and', 'CONJ'), ('social', 'ADJ'), ('networking', 'NOUN'), ('service', 'NOUN'), ('on', 'ADP'), ('which', 'DET'), ('users', 'NOUN'), ('post', 'NOUN'), ('and', 'CONJ'), ('interact', 'NOUN'), ('with', 'ADP'), ('messages', 'DET'), ('known', 'VERB'), ('as', 'ADP'), ('tweets', 'DET'), ('.', '.')], [('Before', 'ADP'), ('entering', 'VERB'), ('politics', 'NOUN'), (',', '.'), ('Donald', 'NOUN'), ('Trump', 'NOUN'), ('was', 'VERB'), ('a', 'DET'), ('domineering', 'NOUN'), ('businessman', 'NOUN'), ('and', 'CONJ'), ('a', 'DET'), ('television', 'NOUN'), ('personality', 'NOUN'), ('.', '.')], [('The', 'DET'), ('2018', 'NOUN'), ('FIFA', 'NOUN'), ('World', 'NOUN'), ('Cup', 'NOUN'), ('is', 'VERB'), ('the', 'DET'), ('21st', 'NOUN'), ('FIFA', 'NOUN'), ('World', 'NOUN'), ('Cup', 'NOUN'), (',', '.'), ('an', 'DET'), ('international', 'ADJ'), ('football', 'NOUN'), ('tournament', 'NOUN'), ('contested', 'NOUN'), ('once', 'ADV'), ('every', 'DET'), ('four', 'NUM'), ('years', 'NOUN'), ('.', '.')], [('This', 'DET'), ('is', 'VERB'), ('the', 'DET'), ('first', 'ADJ'), ('World', 'NOUN'), ('Cup', 'NOUN'), ('to', 'PRT'), ('be', 'VERB'), ('held', 'VERB'), ('in', 'ADP'), ('Eastern', 'NOUN'), ('Europe', 'NOUN'), ('and', 'CONJ'), ('the', 'DET'), ('11th', 'ADJ'), ('time', 'NOUN'), ('that', 'ADP'), ('it', 'PRON'), ('has', 'VERB'), ('been', 'VERB'), ('held', 'VERB'), ('in', 'ADP'), ('Europe', 'NOUN'), ('.', '.')], [('Show', 'NOUN'), ('me', 'PRON'), ('the', 'DET'), ('cheapest', 'ADJ'), ('round', 'NOUN'), ('trips', 'NOUN'), ('from', 'ADP'), ('Dallas', 'NOUN'), ('to', 'PRT'), ('Atlanta', 'NOUN')], [('I', 'PRON'), ('would', 'VERB'), ('like', 'ADP'), ('to', 'PRT'), ('see', 'VERB'), ('flights', 'NOUN'), ('from', 'ADP'), ('Denver', 'NOUN'), ('to', 'PRT'), ('Philadelphia', 'NOUN'), ('.', '.')], [('Show', 'NOUN'), ('me', 'PRON'), ('the', 'DET'), ('price', 'NOUN'), ('of', 'ADP'), ('the', 'DET'), ('flights', 'NOUN'), ('leaving', 'VERB'), ('Atlanta', 'NOUN'), ('at', 'ADP'), ('about', 'ADP'), ('3', 'NUM'), ('in', 'ADP'), ('the', 'DET'), ('afternoon', 'NOUN'), ('and', 'CONJ'), ('arriving', 'NOUN'), ('in', 'ADP'), ('San', 'NOUN'), ('Francisco', 'NOUN'), ('.', '.')], [('NASA', 'NOUN'), ('invited', 'NOUN'), ('social', 'ADJ'), ('media', 'NOUN'), ('users', 'NOUN'), ('to', 'PRT'), ('experience', 'NOUN'), ('the', 'DET'), ('launch', 'NOUN'), ('of', 'ADP'), ('ICESAT-2', 'DET'), ('Satellite', 'NOUN'), ('.', '.')]]\n"
     ]
    }
   ],
   "source": [
    "# making predictions on the test sentences by leveraging modified viterbi algorithm (Viterbi_mod1)\n",
    "list_ts =[]\n",
    "for temp in line_revised:\n",
    "    list_ts.append(Viterbi_mod1(word_tokenize(temp)))\n",
    "print(list_ts)"
   ]
  },
  {
   "cell_type": "code",
   "execution_count": 210,
   "metadata": {},
   "outputs": [
    {
     "name": "stdout",
     "output_type": "stream",
     "text": [
      "[[('Android', 'NOUN'), ('is', 'VERB'), ('a', 'DET'), ('mobile', 'ADJ'), ('operating', 'NOUN'), ('system', 'NOUN'), ('developed', 'VERB'), ('by', 'ADP'), ('Google', 'NOUN'), ('.', '.')], [('Android', 'NOUN'), ('has', 'VERB'), ('been', 'VERB'), ('the', 'DET'), ('best-selling', 'ADJ'), ('OS', 'NOUN'), ('worldwide', 'NOUN'), ('on', 'ADP'), ('smartphones', 'VERB'), ('since', 'ADP'), ('2011', 'NUM'), ('and', 'CONJ'), ('on', 'ADP'), ('tablets', 'NOUN'), ('since', 'ADP'), ('2013', 'NUM'), ('.', '.')], [('Google', 'NOUN'), ('and', 'CONJ'), ('Twitter', 'NOUN'), ('made', 'VERB'), ('a', 'DET'), ('deal', 'NOUN'), ('in', 'ADP'), ('2015', 'NUM'), ('that', 'ADP'), ('gave', 'VERB'), ('Google', 'NOUN'), ('access', 'NOUN'), ('to', 'PRT'), ('Twitter', 'NOUN'), (\"'s\", 'PRT'), ('firehose', 'NOUN'), ('.', '.')], [('Twitter', 'NOUN'), ('is', 'VERB'), ('an', 'DET'), ('online', 'NOUN'), ('news', 'NOUN'), ('and', 'CONJ'), ('social', 'ADJ'), ('networking', 'NOUN'), ('service', 'NOUN'), ('on', 'ADP'), ('which', 'DET'), ('users', 'NOUN'), ('post', 'NOUN'), ('and', 'CONJ'), ('interact', 'NOUN'), ('with', 'ADP'), ('messages', 'VERB'), ('known', 'VERB'), ('as', 'ADP'), ('tweets', 'NOUN'), ('.', '.')], [('Before', 'ADP'), ('entering', 'VERB'), ('politics', 'NOUN'), (',', '.'), ('Donald', 'NOUN'), ('Trump', 'NOUN'), ('was', 'VERB'), ('a', 'DET'), ('domineering', 'VERB'), ('businessman', 'NOUN'), ('and', 'CONJ'), ('a', 'DET'), ('television', 'NOUN'), ('personality', 'NOUN'), ('.', '.')], [('The', 'DET'), ('2018', 'NUM'), ('FIFA', 'NOUN'), ('World', 'NOUN'), ('Cup', 'NOUN'), ('is', 'VERB'), ('the', 'DET'), ('21st', 'NOUN'), ('FIFA', 'NOUN'), ('World', 'NOUN'), ('Cup', 'NOUN'), (',', '.'), ('an', 'DET'), ('international', 'ADJ'), ('football', 'NOUN'), ('tournament', 'NOUN'), ('contested', 'VERB'), ('once', 'ADV'), ('every', 'DET'), ('four', 'NUM'), ('years', 'NOUN'), ('.', '.')], [('This', 'DET'), ('is', 'VERB'), ('the', 'DET'), ('first', 'ADJ'), ('World', 'NOUN'), ('Cup', 'NOUN'), ('to', 'PRT'), ('be', 'VERB'), ('held', 'VERB'), ('in', 'ADP'), ('Eastern', 'NOUN'), ('Europe', 'NOUN'), ('and', 'CONJ'), ('the', 'DET'), ('11th', 'ADJ'), ('time', 'NOUN'), ('that', 'ADP'), ('it', 'PRON'), ('has', 'VERB'), ('been', 'VERB'), ('held', 'VERB'), ('in', 'ADP'), ('Europe', 'NOUN'), ('.', '.')], [('Show', 'NOUN'), ('me', 'PRON'), ('the', 'DET'), ('cheapest', 'ADJ'), ('round', 'NOUN'), ('trips', 'NOUN'), ('from', 'ADP'), ('Dallas', 'NOUN'), ('to', 'PRT'), ('Atlanta', 'NOUN')], [('I', 'PRON'), ('would', 'VERB'), ('like', 'ADP'), ('to', 'PRT'), ('see', 'VERB'), ('flights', 'NOUN'), ('from', 'ADP'), ('Denver', 'NOUN'), ('to', 'PRT'), ('Philadelphia', 'NOUN'), ('.', '.')], [('Show', 'NOUN'), ('me', 'PRON'), ('the', 'DET'), ('price', 'NOUN'), ('of', 'ADP'), ('the', 'DET'), ('flights', 'NOUN'), ('leaving', 'VERB'), ('Atlanta', 'NOUN'), ('at', 'ADP'), ('about', 'ADP'), ('3', 'NUM'), ('in', 'ADP'), ('the', 'DET'), ('afternoon', 'NOUN'), ('and', 'CONJ'), ('arriving', 'VERB'), ('in', 'ADP'), ('San', 'NOUN'), ('Francisco', 'NOUN'), ('.', '.')], [('NASA', 'NOUN'), ('invited', 'VERB'), ('social', 'ADJ'), ('media', 'NOUN'), ('users', 'NOUN'), ('to', 'PRT'), ('experience', 'NOUN'), ('the', 'DET'), ('launch', 'NOUN'), ('of', 'ADP'), ('ICESAT-2', 'NOUN'), ('Satellite', 'NOUN'), ('.', '.')]]\n"
     ]
    }
   ],
   "source": [
    "# making predictions on the test sentences by leveraging modified viterbi algorithm (Viterbi_mod2)\n",
    "list_ts =[]\n",
    "for temp in line_revised:\n",
    "    list_ts.append(Viterbi_mod2(word_tokenize(temp)))\n",
    "print(list_ts)"
   ]
  },
  {
   "cell_type": "markdown",
   "metadata": {},
   "source": [
    "### List down cases which were incorrectly tagged by original POS tagger and got corrected by your modifications"
   ]
  },
  {
   "cell_type": "code",
   "execution_count": 211,
   "metadata": {},
   "outputs": [
    {
     "data": {
      "text/plain": [
       "['Android',\n",
       " 'is',\n",
       " 'a',\n",
       " 'mobile',\n",
       " 'operating',\n",
       " 'system',\n",
       " 'developed',\n",
       " 'by',\n",
       " 'Google',\n",
       " '.',\n",
       " 'Android',\n",
       " 'has',\n",
       " 'been',\n",
       " 'the',\n",
       " 'best-selling',\n",
       " 'OS',\n",
       " 'worldwide',\n",
       " 'on',\n",
       " 'smartphones',\n",
       " 'since',\n",
       " '2011',\n",
       " 'and',\n",
       " 'on',\n",
       " 'tablets',\n",
       " 'since',\n",
       " '2013',\n",
       " '.',\n",
       " 'Google',\n",
       " 'and',\n",
       " 'Twitter',\n",
       " 'made',\n",
       " 'a',\n",
       " 'deal',\n",
       " 'in',\n",
       " '2015',\n",
       " 'that',\n",
       " 'gave',\n",
       " 'Google',\n",
       " 'access',\n",
       " 'to',\n",
       " 'Twitter',\n",
       " \"'s\",\n",
       " 'firehose',\n",
       " '.',\n",
       " 'Twitter',\n",
       " 'is',\n",
       " 'an',\n",
       " 'online',\n",
       " 'news',\n",
       " 'and',\n",
       " 'social',\n",
       " 'networking',\n",
       " 'service',\n",
       " 'on',\n",
       " 'which',\n",
       " 'users',\n",
       " 'post',\n",
       " 'and',\n",
       " 'interact',\n",
       " 'with',\n",
       " 'messages',\n",
       " 'known',\n",
       " 'as',\n",
       " 'tweets',\n",
       " '.',\n",
       " 'Before',\n",
       " 'entering',\n",
       " 'politics',\n",
       " ',',\n",
       " 'Donald',\n",
       " 'Trump',\n",
       " 'was',\n",
       " 'a',\n",
       " 'domineering',\n",
       " 'businessman',\n",
       " 'and',\n",
       " 'a',\n",
       " 'television',\n",
       " 'personality',\n",
       " '.',\n",
       " 'The',\n",
       " '2018',\n",
       " 'FIFA',\n",
       " 'World',\n",
       " 'Cup',\n",
       " 'is',\n",
       " 'the',\n",
       " '21st',\n",
       " 'FIFA',\n",
       " 'World',\n",
       " 'Cup',\n",
       " ',',\n",
       " 'an',\n",
       " 'international',\n",
       " 'football',\n",
       " 'tournament',\n",
       " 'contested',\n",
       " 'once',\n",
       " 'every',\n",
       " 'four',\n",
       " 'years',\n",
       " '.',\n",
       " 'This',\n",
       " 'is',\n",
       " 'the',\n",
       " 'first',\n",
       " 'World',\n",
       " 'Cup',\n",
       " 'to',\n",
       " 'be',\n",
       " 'held',\n",
       " 'in',\n",
       " 'Eastern',\n",
       " 'Europe',\n",
       " 'and',\n",
       " 'the',\n",
       " '11th',\n",
       " 'time',\n",
       " 'that',\n",
       " 'it',\n",
       " 'has',\n",
       " 'been',\n",
       " 'held',\n",
       " 'in',\n",
       " 'Europe',\n",
       " '.',\n",
       " 'Show',\n",
       " 'me',\n",
       " 'the',\n",
       " 'cheapest',\n",
       " 'round',\n",
       " 'trips',\n",
       " 'from',\n",
       " 'Dallas',\n",
       " 'to',\n",
       " 'Atlanta',\n",
       " 'I',\n",
       " 'would',\n",
       " 'like',\n",
       " 'to',\n",
       " 'see',\n",
       " 'flights',\n",
       " 'from',\n",
       " 'Denver',\n",
       " 'to',\n",
       " 'Philadelphia',\n",
       " '.',\n",
       " 'Show',\n",
       " 'me',\n",
       " 'the',\n",
       " 'price',\n",
       " 'of',\n",
       " 'the',\n",
       " 'flights',\n",
       " 'leaving',\n",
       " 'Atlanta',\n",
       " 'at',\n",
       " 'about',\n",
       " '3',\n",
       " 'in',\n",
       " 'the',\n",
       " 'afternoon',\n",
       " 'and',\n",
       " 'arriving',\n",
       " 'in',\n",
       " 'San',\n",
       " 'Francisco',\n",
       " '.',\n",
       " 'NASA',\n",
       " 'invited',\n",
       " 'social',\n",
       " 'media',\n",
       " 'users',\n",
       " 'to',\n",
       " 'experience',\n",
       " 'the',\n",
       " 'launch',\n",
       " 'of',\n",
       " 'ICESAT-2',\n",
       " 'Satellite',\n",
       " '.']"
      ]
     },
     "execution_count": 211,
     "metadata": {},
     "output_type": "execute_result"
    }
   ],
   "source": [
    "# lets identify the words in the test file that we have tagged\n",
    "\n",
    "test_words = [tup for sent in list_ts for tup in sent]\n",
    "tokens_test = [pair[0] for pair in test_words]\n",
    "tokens_test"
   ]
  },
  {
   "cell_type": "code",
   "execution_count": 212,
   "metadata": {},
   "outputs": [
    {
     "data": {
      "text/plain": [
       "['arriving',\n",
       " '2013',\n",
       " 'interact',\n",
       " 'contested',\n",
       " '2015',\n",
       " 'invited',\n",
       " 'Twitter',\n",
       " 'Google',\n",
       " 'ICESAT-2',\n",
       " 'OS',\n",
       " '2018',\n",
       " 'personality',\n",
       " 'messages',\n",
       " 'smartphones',\n",
       " 'trips',\n",
       " 'FIFA',\n",
       " 'Android',\n",
       " 'online',\n",
       " 'Satellite',\n",
       " '2011',\n",
       " 'Cup',\n",
       " 'tweets',\n",
       " 'tournament',\n",
       " 'NASA',\n",
       " 'domineering',\n",
       " 'firehose',\n",
       " '21st',\n",
       " 'worldwide']"
      ]
     },
     "execution_count": 212,
     "metadata": {},
     "output_type": "execute_result"
    }
   ],
   "source": [
    "# words in the test file that are not there in the train data\n",
    "\n",
    "words_notintrain = list(set(tokens_test) - set(tokens))\n",
    "words_notintrain"
   ]
  },
  {
   "cell_type": "code",
   "execution_count": 213,
   "metadata": {},
   "outputs": [
    {
     "data": {
      "text/plain": [
       "[('arriving', 'ADV'),\n",
       " ('2013', 'ADV'),\n",
       " ('interact', 'ADV'),\n",
       " ('contested', 'ADV'),\n",
       " ('2015', 'ADV'),\n",
       " ('invited', 'ADV'),\n",
       " ('Twitter', 'ADV'),\n",
       " ('Google', 'ADV'),\n",
       " ('ICESAT-2', 'ADV'),\n",
       " ('OS', 'ADV'),\n",
       " ('2018', 'ADV'),\n",
       " ('personality', 'ADV'),\n",
       " ('messages', 'ADV'),\n",
       " ('smartphones', 'ADV'),\n",
       " ('trips', 'ADV'),\n",
       " ('FIFA', 'ADV'),\n",
       " ('Android', 'ADV'),\n",
       " ('online', 'ADV'),\n",
       " ('Satellite', 'ADV'),\n",
       " ('2011', 'ADV'),\n",
       " ('Cup', 'ADV'),\n",
       " ('tweets', 'ADV'),\n",
       " ('tournament', 'ADV'),\n",
       " ('NASA', 'ADV'),\n",
       " ('domineering', 'ADV'),\n",
       " ('firehose', 'ADV'),\n",
       " ('21st', 'ADV'),\n",
       " ('worldwide', 'ADV')]"
      ]
     },
     "execution_count": 213,
     "metadata": {},
     "output_type": "execute_result"
    }
   ],
   "source": [
    "viterbi_test = Viterbi(words_notintrain)\n",
    "viterbi_test"
   ]
  },
  {
   "cell_type": "markdown",
   "metadata": {},
   "source": [
    "##### As we can see, Viterbi has classified all the words in test set that are not in train incorrectly"
   ]
  },
  {
   "cell_type": "code",
   "execution_count": 214,
   "metadata": {},
   "outputs": [
    {
     "data": {
      "text/plain": [
       "[('arriving', 'NOUN'),\n",
       " ('2013', 'NOUN'),\n",
       " ('interact', 'NOUN'),\n",
       " ('contested', 'NOUN'),\n",
       " ('2015', 'NOUN'),\n",
       " ('invited', 'NOUN'),\n",
       " ('Twitter', 'NOUN'),\n",
       " ('Google', 'NOUN'),\n",
       " ('ICESAT-2', 'NOUN'),\n",
       " ('OS', 'NOUN'),\n",
       " ('2018', 'NOUN'),\n",
       " ('personality', 'NOUN'),\n",
       " ('messages', 'NOUN'),\n",
       " ('smartphones', 'NOUN'),\n",
       " ('trips', 'NOUN'),\n",
       " ('FIFA', 'NOUN'),\n",
       " ('Android', 'NOUN'),\n",
       " ('online', 'NOUN'),\n",
       " ('Satellite', 'NOUN'),\n",
       " ('2011', 'NOUN'),\n",
       " ('Cup', 'NOUN'),\n",
       " ('tweets', 'NOUN'),\n",
       " ('tournament', 'NOUN'),\n",
       " ('NASA', 'NOUN'),\n",
       " ('domineering', 'NOUN'),\n",
       " ('firehose', 'NOUN'),\n",
       " ('21st', 'NOUN'),\n",
       " ('worldwide', 'NOUN')]"
      ]
     },
     "execution_count": 214,
     "metadata": {},
     "output_type": "execute_result"
    }
   ],
   "source": [
    "viterbi_mod1_test = Viterbi_mod1(words_notintrain)\n",
    "viterbi_mod1_test"
   ]
  },
  {
   "cell_type": "code",
   "execution_count": 215,
   "metadata": {},
   "outputs": [
    {
     "data": {
      "text/plain": [
       "[('arriving', 'VERB'),\n",
       " ('2013', 'NUM'),\n",
       " ('interact', 'NOUN'),\n",
       " ('contested', 'VERB'),\n",
       " ('2015', 'NUM'),\n",
       " ('invited', 'VERB'),\n",
       " ('Twitter', 'NOUN'),\n",
       " ('Google', 'NOUN'),\n",
       " ('ICESAT-2', 'NOUN'),\n",
       " ('OS', 'NOUN'),\n",
       " ('2018', 'NUM'),\n",
       " ('personality', 'NOUN'),\n",
       " ('messages', 'VERB'),\n",
       " ('smartphones', 'VERB'),\n",
       " ('trips', 'NOUN'),\n",
       " ('FIFA', 'NOUN'),\n",
       " ('Android', 'NOUN'),\n",
       " ('online', 'NOUN'),\n",
       " ('Satellite', 'NOUN'),\n",
       " ('2011', 'NUM'),\n",
       " ('Cup', 'NOUN'),\n",
       " ('tweets', 'NOUN'),\n",
       " ('tournament', 'NOUN'),\n",
       " ('NASA', 'NOUN'),\n",
       " ('domineering', 'VERB'),\n",
       " ('firehose', 'NOUN'),\n",
       " ('21st', 'NOUN'),\n",
       " ('worldwide', 'NOUN')]"
      ]
     },
     "execution_count": 215,
     "metadata": {},
     "output_type": "execute_result"
    }
   ],
   "source": [
    "viterbi_mod2_test = Viterbi_mod2(words_notintrain)\n",
    "viterbi_mod2_test"
   ]
  },
  {
   "cell_type": "code",
   "execution_count": 216,
   "metadata": {},
   "outputs": [
    {
     "data": {
      "text/html": [
       "<div>\n",
       "<style scoped>\n",
       "    .dataframe tbody tr th:only-of-type {\n",
       "        vertical-align: middle;\n",
       "    }\n",
       "\n",
       "    .dataframe tbody tr th {\n",
       "        vertical-align: top;\n",
       "    }\n",
       "\n",
       "    .dataframe thead th {\n",
       "        text-align: right;\n",
       "    }\n",
       "</style>\n",
       "<table border=\"1\" class=\"dataframe\">\n",
       "  <thead>\n",
       "    <tr style=\"text-align: right;\">\n",
       "      <th></th>\n",
       "      <th>unknown_word</th>\n",
       "      <th>vanila_viterbi_tag</th>\n",
       "      <th>mod1_viterbi_tag</th>\n",
       "      <th>mod2_viterbi_tag</th>\n",
       "    </tr>\n",
       "  </thead>\n",
       "  <tbody>\n",
       "    <tr>\n",
       "      <th>0</th>\n",
       "      <td>arriving</td>\n",
       "      <td>ADV</td>\n",
       "      <td>NOUN</td>\n",
       "      <td>VERB</td>\n",
       "    </tr>\n",
       "    <tr>\n",
       "      <th>1</th>\n",
       "      <td>2013</td>\n",
       "      <td>ADV</td>\n",
       "      <td>NOUN</td>\n",
       "      <td>NUM</td>\n",
       "    </tr>\n",
       "    <tr>\n",
       "      <th>2</th>\n",
       "      <td>interact</td>\n",
       "      <td>ADV</td>\n",
       "      <td>NOUN</td>\n",
       "      <td>NOUN</td>\n",
       "    </tr>\n",
       "    <tr>\n",
       "      <th>3</th>\n",
       "      <td>contested</td>\n",
       "      <td>ADV</td>\n",
       "      <td>NOUN</td>\n",
       "      <td>VERB</td>\n",
       "    </tr>\n",
       "    <tr>\n",
       "      <th>4</th>\n",
       "      <td>2015</td>\n",
       "      <td>ADV</td>\n",
       "      <td>NOUN</td>\n",
       "      <td>NUM</td>\n",
       "    </tr>\n",
       "    <tr>\n",
       "      <th>5</th>\n",
       "      <td>invited</td>\n",
       "      <td>ADV</td>\n",
       "      <td>NOUN</td>\n",
       "      <td>VERB</td>\n",
       "    </tr>\n",
       "    <tr>\n",
       "      <th>6</th>\n",
       "      <td>Twitter</td>\n",
       "      <td>ADV</td>\n",
       "      <td>NOUN</td>\n",
       "      <td>NOUN</td>\n",
       "    </tr>\n",
       "    <tr>\n",
       "      <th>7</th>\n",
       "      <td>Google</td>\n",
       "      <td>ADV</td>\n",
       "      <td>NOUN</td>\n",
       "      <td>NOUN</td>\n",
       "    </tr>\n",
       "    <tr>\n",
       "      <th>8</th>\n",
       "      <td>ICESAT-2</td>\n",
       "      <td>ADV</td>\n",
       "      <td>NOUN</td>\n",
       "      <td>NOUN</td>\n",
       "    </tr>\n",
       "    <tr>\n",
       "      <th>9</th>\n",
       "      <td>OS</td>\n",
       "      <td>ADV</td>\n",
       "      <td>NOUN</td>\n",
       "      <td>NOUN</td>\n",
       "    </tr>\n",
       "    <tr>\n",
       "      <th>10</th>\n",
       "      <td>2018</td>\n",
       "      <td>ADV</td>\n",
       "      <td>NOUN</td>\n",
       "      <td>NUM</td>\n",
       "    </tr>\n",
       "    <tr>\n",
       "      <th>11</th>\n",
       "      <td>personality</td>\n",
       "      <td>ADV</td>\n",
       "      <td>NOUN</td>\n",
       "      <td>NOUN</td>\n",
       "    </tr>\n",
       "    <tr>\n",
       "      <th>12</th>\n",
       "      <td>messages</td>\n",
       "      <td>ADV</td>\n",
       "      <td>NOUN</td>\n",
       "      <td>VERB</td>\n",
       "    </tr>\n",
       "    <tr>\n",
       "      <th>13</th>\n",
       "      <td>smartphones</td>\n",
       "      <td>ADV</td>\n",
       "      <td>NOUN</td>\n",
       "      <td>VERB</td>\n",
       "    </tr>\n",
       "    <tr>\n",
       "      <th>14</th>\n",
       "      <td>trips</td>\n",
       "      <td>ADV</td>\n",
       "      <td>NOUN</td>\n",
       "      <td>NOUN</td>\n",
       "    </tr>\n",
       "    <tr>\n",
       "      <th>15</th>\n",
       "      <td>FIFA</td>\n",
       "      <td>ADV</td>\n",
       "      <td>NOUN</td>\n",
       "      <td>NOUN</td>\n",
       "    </tr>\n",
       "    <tr>\n",
       "      <th>16</th>\n",
       "      <td>Android</td>\n",
       "      <td>ADV</td>\n",
       "      <td>NOUN</td>\n",
       "      <td>NOUN</td>\n",
       "    </tr>\n",
       "    <tr>\n",
       "      <th>17</th>\n",
       "      <td>online</td>\n",
       "      <td>ADV</td>\n",
       "      <td>NOUN</td>\n",
       "      <td>NOUN</td>\n",
       "    </tr>\n",
       "    <tr>\n",
       "      <th>18</th>\n",
       "      <td>Satellite</td>\n",
       "      <td>ADV</td>\n",
       "      <td>NOUN</td>\n",
       "      <td>NOUN</td>\n",
       "    </tr>\n",
       "    <tr>\n",
       "      <th>19</th>\n",
       "      <td>2011</td>\n",
       "      <td>ADV</td>\n",
       "      <td>NOUN</td>\n",
       "      <td>NUM</td>\n",
       "    </tr>\n",
       "    <tr>\n",
       "      <th>20</th>\n",
       "      <td>Cup</td>\n",
       "      <td>ADV</td>\n",
       "      <td>NOUN</td>\n",
       "      <td>NOUN</td>\n",
       "    </tr>\n",
       "    <tr>\n",
       "      <th>21</th>\n",
       "      <td>tweets</td>\n",
       "      <td>ADV</td>\n",
       "      <td>NOUN</td>\n",
       "      <td>NOUN</td>\n",
       "    </tr>\n",
       "    <tr>\n",
       "      <th>22</th>\n",
       "      <td>tournament</td>\n",
       "      <td>ADV</td>\n",
       "      <td>NOUN</td>\n",
       "      <td>NOUN</td>\n",
       "    </tr>\n",
       "    <tr>\n",
       "      <th>23</th>\n",
       "      <td>NASA</td>\n",
       "      <td>ADV</td>\n",
       "      <td>NOUN</td>\n",
       "      <td>NOUN</td>\n",
       "    </tr>\n",
       "    <tr>\n",
       "      <th>24</th>\n",
       "      <td>domineering</td>\n",
       "      <td>ADV</td>\n",
       "      <td>NOUN</td>\n",
       "      <td>VERB</td>\n",
       "    </tr>\n",
       "    <tr>\n",
       "      <th>25</th>\n",
       "      <td>firehose</td>\n",
       "      <td>ADV</td>\n",
       "      <td>NOUN</td>\n",
       "      <td>NOUN</td>\n",
       "    </tr>\n",
       "    <tr>\n",
       "      <th>26</th>\n",
       "      <td>21st</td>\n",
       "      <td>ADV</td>\n",
       "      <td>NOUN</td>\n",
       "      <td>NOUN</td>\n",
       "    </tr>\n",
       "    <tr>\n",
       "      <th>27</th>\n",
       "      <td>worldwide</td>\n",
       "      <td>ADV</td>\n",
       "      <td>NOUN</td>\n",
       "      <td>NOUN</td>\n",
       "    </tr>\n",
       "  </tbody>\n",
       "</table>\n",
       "</div>"
      ],
      "text/plain": [
       "   unknown_word vanila_viterbi_tag mod1_viterbi_tag mod2_viterbi_tag\n",
       "0      arriving                ADV             NOUN             VERB\n",
       "1          2013                ADV             NOUN              NUM\n",
       "2      interact                ADV             NOUN             NOUN\n",
       "3     contested                ADV             NOUN             VERB\n",
       "4          2015                ADV             NOUN              NUM\n",
       "5       invited                ADV             NOUN             VERB\n",
       "6       Twitter                ADV             NOUN             NOUN\n",
       "7        Google                ADV             NOUN             NOUN\n",
       "8      ICESAT-2                ADV             NOUN             NOUN\n",
       "9            OS                ADV             NOUN             NOUN\n",
       "10         2018                ADV             NOUN              NUM\n",
       "11  personality                ADV             NOUN             NOUN\n",
       "12     messages                ADV             NOUN             VERB\n",
       "13  smartphones                ADV             NOUN             VERB\n",
       "14        trips                ADV             NOUN             NOUN\n",
       "15         FIFA                ADV             NOUN             NOUN\n",
       "16      Android                ADV             NOUN             NOUN\n",
       "17       online                ADV             NOUN             NOUN\n",
       "18    Satellite                ADV             NOUN             NOUN\n",
       "19         2011                ADV             NOUN              NUM\n",
       "20          Cup                ADV             NOUN             NOUN\n",
       "21       tweets                ADV             NOUN             NOUN\n",
       "22   tournament                ADV             NOUN             NOUN\n",
       "23         NASA                ADV             NOUN             NOUN\n",
       "24  domineering                ADV             NOUN             VERB\n",
       "25     firehose                ADV             NOUN             NOUN\n",
       "26         21st                ADV             NOUN             NOUN\n",
       "27    worldwide                ADV             NOUN             NOUN"
      ]
     },
     "execution_count": 216,
     "metadata": {},
     "output_type": "execute_result"
    }
   ],
   "source": [
    "# merging these three lists\n",
    "\n",
    "from pandas import DataFrame\n",
    "df_vv = DataFrame (viterbi_test,columns=['unknown_word','vanila_viterbi_tag'])\n",
    "df_vm1 = DataFrame (viterbi_mod1_test,columns=['unknown_word','mod1_viterbi_tag'])\n",
    "df_vm2 = DataFrame (viterbi_mod2_test,columns=['unknown_word','mod2_viterbi_tag'])\n",
    "merged = pd.merge(df_vv, df_vm1, on='unknown_word')\n",
    "merged_final = pd.merge(merged, df_vm2, on='unknown_word')\n",
    "merged_final"
   ]
  },
  {
   "cell_type": "markdown",
   "metadata": {},
   "source": [
    "as we can see, words like Twitter, Google, NASA etc are incorrectly tagged by Vanilla Viterbi in table above. Tagging for these words is corrected to Noun by the modified algorithms."
   ]
  },
  {
   "cell_type": "code",
   "execution_count": null,
   "metadata": {},
   "outputs": [],
   "source": []
  }
 ],
 "metadata": {
  "kernelspec": {
   "display_name": "Python 3",
   "language": "python",
   "name": "python3"
  },
  "language_info": {
   "codemirror_mode": {
    "name": "ipython",
    "version": 3
   },
   "file_extension": ".py",
   "mimetype": "text/x-python",
   "name": "python",
   "nbconvert_exporter": "python",
   "pygments_lexer": "ipython3",
   "version": "3.7.6"
  }
 },
 "nbformat": 4,
 "nbformat_minor": 2
}
